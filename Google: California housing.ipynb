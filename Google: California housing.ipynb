{
  "nbformat": 4,
  "nbformat_minor": 0,
  "metadata": {
    "colab": {
      "name": "Google: California housing .ipynb",
      "provenance": []
    },
    "kernelspec": {
      "name": "python3",
      "display_name": "Python 3"
    }
  },
  "cells": [
    {
      "cell_type": "code",
      "metadata": {
        "id": "G2T-02ETTxbw",
        "colab_type": "code",
        "colab": {
          "base_uri": "https://localhost:8080/",
          "height": 51
        },
        "outputId": "227459db-a267-40f2-97a2-75b92a83e249"
      },
      "source": [
        "import os\n",
        "import pandas as pd\n",
        "import numpy as np\n",
        "import seaborn as sns\n",
        "import matplotlib.pyplot as plt"
      ],
      "execution_count": 1,
      "outputs": [
        {
          "output_type": "stream",
          "text": [
            "/usr/local/lib/python3.6/dist-packages/statsmodels/tools/_testing.py:19: FutureWarning: pandas.util.testing is deprecated. Use the functions in the public API at pandas.testing instead.\n",
            "  import pandas.util.testing as tm\n"
          ],
          "name": "stderr"
        }
      ]
    },
    {
      "cell_type": "code",
      "metadata": {
        "id": "vhgAoqV6UIQu",
        "colab_type": "code",
        "colab": {}
      },
      "source": [
        "trainData = pd.read_csv(\"sample_data/california_housing_train.csv\")\n",
        "testData = pd.read_csv(\"sample_data/california_housing_test.csv\")"
      ],
      "execution_count": 65,
      "outputs": []
    },
    {
      "cell_type": "code",
      "metadata": {
        "id": "j_8Se9nuVLCr",
        "colab_type": "code",
        "colab": {
          "base_uri": "https://localhost:8080/",
          "height": 419
        },
        "outputId": "8911fbaf-0da7-46a0-f8de-7899f74c0e4e"
      },
      "source": [
        "trainData"
      ],
      "execution_count": 3,
      "outputs": [
        {
          "output_type": "execute_result",
          "data": {
            "text/html": [
              "<div>\n",
              "<style scoped>\n",
              "    .dataframe tbody tr th:only-of-type {\n",
              "        vertical-align: middle;\n",
              "    }\n",
              "\n",
              "    .dataframe tbody tr th {\n",
              "        vertical-align: top;\n",
              "    }\n",
              "\n",
              "    .dataframe thead th {\n",
              "        text-align: right;\n",
              "    }\n",
              "</style>\n",
              "<table border=\"1\" class=\"dataframe\">\n",
              "  <thead>\n",
              "    <tr style=\"text-align: right;\">\n",
              "      <th></th>\n",
              "      <th>longitude</th>\n",
              "      <th>latitude</th>\n",
              "      <th>housing_median_age</th>\n",
              "      <th>total_rooms</th>\n",
              "      <th>total_bedrooms</th>\n",
              "      <th>population</th>\n",
              "      <th>households</th>\n",
              "      <th>median_income</th>\n",
              "      <th>median_house_value</th>\n",
              "    </tr>\n",
              "  </thead>\n",
              "  <tbody>\n",
              "    <tr>\n",
              "      <th>0</th>\n",
              "      <td>-114.31</td>\n",
              "      <td>34.19</td>\n",
              "      <td>15.0</td>\n",
              "      <td>5612.0</td>\n",
              "      <td>1283.0</td>\n",
              "      <td>1015.0</td>\n",
              "      <td>472.0</td>\n",
              "      <td>1.4936</td>\n",
              "      <td>66900.0</td>\n",
              "    </tr>\n",
              "    <tr>\n",
              "      <th>1</th>\n",
              "      <td>-114.47</td>\n",
              "      <td>34.40</td>\n",
              "      <td>19.0</td>\n",
              "      <td>7650.0</td>\n",
              "      <td>1901.0</td>\n",
              "      <td>1129.0</td>\n",
              "      <td>463.0</td>\n",
              "      <td>1.8200</td>\n",
              "      <td>80100.0</td>\n",
              "    </tr>\n",
              "    <tr>\n",
              "      <th>2</th>\n",
              "      <td>-114.56</td>\n",
              "      <td>33.69</td>\n",
              "      <td>17.0</td>\n",
              "      <td>720.0</td>\n",
              "      <td>174.0</td>\n",
              "      <td>333.0</td>\n",
              "      <td>117.0</td>\n",
              "      <td>1.6509</td>\n",
              "      <td>85700.0</td>\n",
              "    </tr>\n",
              "    <tr>\n",
              "      <th>3</th>\n",
              "      <td>-114.57</td>\n",
              "      <td>33.64</td>\n",
              "      <td>14.0</td>\n",
              "      <td>1501.0</td>\n",
              "      <td>337.0</td>\n",
              "      <td>515.0</td>\n",
              "      <td>226.0</td>\n",
              "      <td>3.1917</td>\n",
              "      <td>73400.0</td>\n",
              "    </tr>\n",
              "    <tr>\n",
              "      <th>4</th>\n",
              "      <td>-114.57</td>\n",
              "      <td>33.57</td>\n",
              "      <td>20.0</td>\n",
              "      <td>1454.0</td>\n",
              "      <td>326.0</td>\n",
              "      <td>624.0</td>\n",
              "      <td>262.0</td>\n",
              "      <td>1.9250</td>\n",
              "      <td>65500.0</td>\n",
              "    </tr>\n",
              "    <tr>\n",
              "      <th>...</th>\n",
              "      <td>...</td>\n",
              "      <td>...</td>\n",
              "      <td>...</td>\n",
              "      <td>...</td>\n",
              "      <td>...</td>\n",
              "      <td>...</td>\n",
              "      <td>...</td>\n",
              "      <td>...</td>\n",
              "      <td>...</td>\n",
              "    </tr>\n",
              "    <tr>\n",
              "      <th>16995</th>\n",
              "      <td>-124.26</td>\n",
              "      <td>40.58</td>\n",
              "      <td>52.0</td>\n",
              "      <td>2217.0</td>\n",
              "      <td>394.0</td>\n",
              "      <td>907.0</td>\n",
              "      <td>369.0</td>\n",
              "      <td>2.3571</td>\n",
              "      <td>111400.0</td>\n",
              "    </tr>\n",
              "    <tr>\n",
              "      <th>16996</th>\n",
              "      <td>-124.27</td>\n",
              "      <td>40.69</td>\n",
              "      <td>36.0</td>\n",
              "      <td>2349.0</td>\n",
              "      <td>528.0</td>\n",
              "      <td>1194.0</td>\n",
              "      <td>465.0</td>\n",
              "      <td>2.5179</td>\n",
              "      <td>79000.0</td>\n",
              "    </tr>\n",
              "    <tr>\n",
              "      <th>16997</th>\n",
              "      <td>-124.30</td>\n",
              "      <td>41.84</td>\n",
              "      <td>17.0</td>\n",
              "      <td>2677.0</td>\n",
              "      <td>531.0</td>\n",
              "      <td>1244.0</td>\n",
              "      <td>456.0</td>\n",
              "      <td>3.0313</td>\n",
              "      <td>103600.0</td>\n",
              "    </tr>\n",
              "    <tr>\n",
              "      <th>16998</th>\n",
              "      <td>-124.30</td>\n",
              "      <td>41.80</td>\n",
              "      <td>19.0</td>\n",
              "      <td>2672.0</td>\n",
              "      <td>552.0</td>\n",
              "      <td>1298.0</td>\n",
              "      <td>478.0</td>\n",
              "      <td>1.9797</td>\n",
              "      <td>85800.0</td>\n",
              "    </tr>\n",
              "    <tr>\n",
              "      <th>16999</th>\n",
              "      <td>-124.35</td>\n",
              "      <td>40.54</td>\n",
              "      <td>52.0</td>\n",
              "      <td>1820.0</td>\n",
              "      <td>300.0</td>\n",
              "      <td>806.0</td>\n",
              "      <td>270.0</td>\n",
              "      <td>3.0147</td>\n",
              "      <td>94600.0</td>\n",
              "    </tr>\n",
              "  </tbody>\n",
              "</table>\n",
              "<p>17000 rows × 9 columns</p>\n",
              "</div>"
            ],
            "text/plain": [
              "       longitude  latitude  ...  median_income  median_house_value\n",
              "0        -114.31     34.19  ...         1.4936             66900.0\n",
              "1        -114.47     34.40  ...         1.8200             80100.0\n",
              "2        -114.56     33.69  ...         1.6509             85700.0\n",
              "3        -114.57     33.64  ...         3.1917             73400.0\n",
              "4        -114.57     33.57  ...         1.9250             65500.0\n",
              "...          ...       ...  ...            ...                 ...\n",
              "16995    -124.26     40.58  ...         2.3571            111400.0\n",
              "16996    -124.27     40.69  ...         2.5179             79000.0\n",
              "16997    -124.30     41.84  ...         3.0313            103600.0\n",
              "16998    -124.30     41.80  ...         1.9797             85800.0\n",
              "16999    -124.35     40.54  ...         3.0147             94600.0\n",
              "\n",
              "[17000 rows x 9 columns]"
            ]
          },
          "metadata": {
            "tags": []
          },
          "execution_count": 3
        }
      ]
    },
    {
      "cell_type": "code",
      "metadata": {
        "id": "d-sCKNbzVMp0",
        "colab_type": "code",
        "colab": {
          "base_uri": "https://localhost:8080/",
          "height": 419
        },
        "outputId": "6d000091-171a-404c-82f9-af48c7389bae"
      },
      "source": [
        "testData"
      ],
      "execution_count": 4,
      "outputs": [
        {
          "output_type": "execute_result",
          "data": {
            "text/html": [
              "<div>\n",
              "<style scoped>\n",
              "    .dataframe tbody tr th:only-of-type {\n",
              "        vertical-align: middle;\n",
              "    }\n",
              "\n",
              "    .dataframe tbody tr th {\n",
              "        vertical-align: top;\n",
              "    }\n",
              "\n",
              "    .dataframe thead th {\n",
              "        text-align: right;\n",
              "    }\n",
              "</style>\n",
              "<table border=\"1\" class=\"dataframe\">\n",
              "  <thead>\n",
              "    <tr style=\"text-align: right;\">\n",
              "      <th></th>\n",
              "      <th>longitude</th>\n",
              "      <th>latitude</th>\n",
              "      <th>housing_median_age</th>\n",
              "      <th>total_rooms</th>\n",
              "      <th>total_bedrooms</th>\n",
              "      <th>population</th>\n",
              "      <th>households</th>\n",
              "      <th>median_income</th>\n",
              "      <th>median_house_value</th>\n",
              "    </tr>\n",
              "  </thead>\n",
              "  <tbody>\n",
              "    <tr>\n",
              "      <th>0</th>\n",
              "      <td>-122.05</td>\n",
              "      <td>37.37</td>\n",
              "      <td>27.0</td>\n",
              "      <td>3885.0</td>\n",
              "      <td>661.0</td>\n",
              "      <td>1537.0</td>\n",
              "      <td>606.0</td>\n",
              "      <td>6.6085</td>\n",
              "      <td>344700.0</td>\n",
              "    </tr>\n",
              "    <tr>\n",
              "      <th>1</th>\n",
              "      <td>-118.30</td>\n",
              "      <td>34.26</td>\n",
              "      <td>43.0</td>\n",
              "      <td>1510.0</td>\n",
              "      <td>310.0</td>\n",
              "      <td>809.0</td>\n",
              "      <td>277.0</td>\n",
              "      <td>3.5990</td>\n",
              "      <td>176500.0</td>\n",
              "    </tr>\n",
              "    <tr>\n",
              "      <th>2</th>\n",
              "      <td>-117.81</td>\n",
              "      <td>33.78</td>\n",
              "      <td>27.0</td>\n",
              "      <td>3589.0</td>\n",
              "      <td>507.0</td>\n",
              "      <td>1484.0</td>\n",
              "      <td>495.0</td>\n",
              "      <td>5.7934</td>\n",
              "      <td>270500.0</td>\n",
              "    </tr>\n",
              "    <tr>\n",
              "      <th>3</th>\n",
              "      <td>-118.36</td>\n",
              "      <td>33.82</td>\n",
              "      <td>28.0</td>\n",
              "      <td>67.0</td>\n",
              "      <td>15.0</td>\n",
              "      <td>49.0</td>\n",
              "      <td>11.0</td>\n",
              "      <td>6.1359</td>\n",
              "      <td>330000.0</td>\n",
              "    </tr>\n",
              "    <tr>\n",
              "      <th>4</th>\n",
              "      <td>-119.67</td>\n",
              "      <td>36.33</td>\n",
              "      <td>19.0</td>\n",
              "      <td>1241.0</td>\n",
              "      <td>244.0</td>\n",
              "      <td>850.0</td>\n",
              "      <td>237.0</td>\n",
              "      <td>2.9375</td>\n",
              "      <td>81700.0</td>\n",
              "    </tr>\n",
              "    <tr>\n",
              "      <th>...</th>\n",
              "      <td>...</td>\n",
              "      <td>...</td>\n",
              "      <td>...</td>\n",
              "      <td>...</td>\n",
              "      <td>...</td>\n",
              "      <td>...</td>\n",
              "      <td>...</td>\n",
              "      <td>...</td>\n",
              "      <td>...</td>\n",
              "    </tr>\n",
              "    <tr>\n",
              "      <th>2995</th>\n",
              "      <td>-119.86</td>\n",
              "      <td>34.42</td>\n",
              "      <td>23.0</td>\n",
              "      <td>1450.0</td>\n",
              "      <td>642.0</td>\n",
              "      <td>1258.0</td>\n",
              "      <td>607.0</td>\n",
              "      <td>1.1790</td>\n",
              "      <td>225000.0</td>\n",
              "    </tr>\n",
              "    <tr>\n",
              "      <th>2996</th>\n",
              "      <td>-118.14</td>\n",
              "      <td>34.06</td>\n",
              "      <td>27.0</td>\n",
              "      <td>5257.0</td>\n",
              "      <td>1082.0</td>\n",
              "      <td>3496.0</td>\n",
              "      <td>1036.0</td>\n",
              "      <td>3.3906</td>\n",
              "      <td>237200.0</td>\n",
              "    </tr>\n",
              "    <tr>\n",
              "      <th>2997</th>\n",
              "      <td>-119.70</td>\n",
              "      <td>36.30</td>\n",
              "      <td>10.0</td>\n",
              "      <td>956.0</td>\n",
              "      <td>201.0</td>\n",
              "      <td>693.0</td>\n",
              "      <td>220.0</td>\n",
              "      <td>2.2895</td>\n",
              "      <td>62000.0</td>\n",
              "    </tr>\n",
              "    <tr>\n",
              "      <th>2998</th>\n",
              "      <td>-117.12</td>\n",
              "      <td>34.10</td>\n",
              "      <td>40.0</td>\n",
              "      <td>96.0</td>\n",
              "      <td>14.0</td>\n",
              "      <td>46.0</td>\n",
              "      <td>14.0</td>\n",
              "      <td>3.2708</td>\n",
              "      <td>162500.0</td>\n",
              "    </tr>\n",
              "    <tr>\n",
              "      <th>2999</th>\n",
              "      <td>-119.63</td>\n",
              "      <td>34.42</td>\n",
              "      <td>42.0</td>\n",
              "      <td>1765.0</td>\n",
              "      <td>263.0</td>\n",
              "      <td>753.0</td>\n",
              "      <td>260.0</td>\n",
              "      <td>8.5608</td>\n",
              "      <td>500001.0</td>\n",
              "    </tr>\n",
              "  </tbody>\n",
              "</table>\n",
              "<p>3000 rows × 9 columns</p>\n",
              "</div>"
            ],
            "text/plain": [
              "      longitude  latitude  ...  median_income  median_house_value\n",
              "0       -122.05     37.37  ...         6.6085            344700.0\n",
              "1       -118.30     34.26  ...         3.5990            176500.0\n",
              "2       -117.81     33.78  ...         5.7934            270500.0\n",
              "3       -118.36     33.82  ...         6.1359            330000.0\n",
              "4       -119.67     36.33  ...         2.9375             81700.0\n",
              "...         ...       ...  ...            ...                 ...\n",
              "2995    -119.86     34.42  ...         1.1790            225000.0\n",
              "2996    -118.14     34.06  ...         3.3906            237200.0\n",
              "2997    -119.70     36.30  ...         2.2895             62000.0\n",
              "2998    -117.12     34.10  ...         3.2708            162500.0\n",
              "2999    -119.63     34.42  ...         8.5608            500001.0\n",
              "\n",
              "[3000 rows x 9 columns]"
            ]
          },
          "metadata": {
            "tags": []
          },
          "execution_count": 4
        }
      ]
    },
    {
      "cell_type": "code",
      "metadata": {
        "id": "ijAB4p7eVPol",
        "colab_type": "code",
        "colab": {}
      },
      "source": [
        "trainData[\"totalRooms\"] = pd.qcut(trainData[\"total_rooms\"], 10)"
      ],
      "execution_count": 19,
      "outputs": []
    },
    {
      "cell_type": "code",
      "metadata": {
        "id": "vrdAR1n7URGu",
        "colab_type": "code",
        "colab": {
          "base_uri": "https://localhost:8080/",
          "height": 359
        },
        "outputId": "dad94b72-ae10-4ee8-df23-fcf736b7f95b"
      },
      "source": [
        "trainData[[\"totalRooms\", \"median_house_value\"]].groupby([\"totalRooms\"], as_index=False).mean()"
      ],
      "execution_count": 20,
      "outputs": [
        {
          "output_type": "execute_result",
          "data": {
            "text/html": [
              "<div>\n",
              "<style scoped>\n",
              "    .dataframe tbody tr th:only-of-type {\n",
              "        vertical-align: middle;\n",
              "    }\n",
              "\n",
              "    .dataframe tbody tr th {\n",
              "        vertical-align: top;\n",
              "    }\n",
              "\n",
              "    .dataframe thead th {\n",
              "        text-align: right;\n",
              "    }\n",
              "</style>\n",
              "<table border=\"1\" class=\"dataframe\">\n",
              "  <thead>\n",
              "    <tr style=\"text-align: right;\">\n",
              "      <th></th>\n",
              "      <th>totalRooms</th>\n",
              "      <th>median_house_value</th>\n",
              "    </tr>\n",
              "  </thead>\n",
              "  <tbody>\n",
              "    <tr>\n",
              "      <th>0</th>\n",
              "      <td>(1.999, 949.0]</td>\n",
              "      <td>173689.401880</td>\n",
              "    </tr>\n",
              "    <tr>\n",
              "      <th>1</th>\n",
              "      <td>(949.0, 1311.0]</td>\n",
              "      <td>178892.803173</td>\n",
              "    </tr>\n",
              "    <tr>\n",
              "      <th>2</th>\n",
              "      <td>(1311.0, 1589.0]</td>\n",
              "      <td>190888.200236</td>\n",
              "    </tr>\n",
              "    <tr>\n",
              "      <th>3</th>\n",
              "      <td>(1589.0, 1842.0]</td>\n",
              "      <td>196626.877575</td>\n",
              "    </tr>\n",
              "    <tr>\n",
              "      <th>4</th>\n",
              "      <td>(1842.0, 2127.0]</td>\n",
              "      <td>202958.096357</td>\n",
              "    </tr>\n",
              "    <tr>\n",
              "      <th>5</th>\n",
              "      <td>(2127.0, 2460.0]</td>\n",
              "      <td>209298.331176</td>\n",
              "    </tr>\n",
              "    <tr>\n",
              "      <th>6</th>\n",
              "      <td>(2460.0, 2879.0]</td>\n",
              "      <td>222053.228555</td>\n",
              "    </tr>\n",
              "    <tr>\n",
              "      <th>7</th>\n",
              "      <td>(2879.0, 3480.0]</td>\n",
              "      <td>226060.268278</td>\n",
              "    </tr>\n",
              "    <tr>\n",
              "      <th>8</th>\n",
              "      <td>(3480.0, 4677.1]</td>\n",
              "      <td>238025.849323</td>\n",
              "    </tr>\n",
              "    <tr>\n",
              "      <th>9</th>\n",
              "      <td>(4677.1, 37937.0]</td>\n",
              "      <td>234613.410000</td>\n",
              "    </tr>\n",
              "  </tbody>\n",
              "</table>\n",
              "</div>"
            ],
            "text/plain": [
              "          totalRooms  median_house_value\n",
              "0     (1.999, 949.0]       173689.401880\n",
              "1    (949.0, 1311.0]       178892.803173\n",
              "2   (1311.0, 1589.0]       190888.200236\n",
              "3   (1589.0, 1842.0]       196626.877575\n",
              "4   (1842.0, 2127.0]       202958.096357\n",
              "5   (2127.0, 2460.0]       209298.331176\n",
              "6   (2460.0, 2879.0]       222053.228555\n",
              "7   (2879.0, 3480.0]       226060.268278\n",
              "8   (3480.0, 4677.1]       238025.849323\n",
              "9  (4677.1, 37937.0]       234613.410000"
            ]
          },
          "metadata": {
            "tags": []
          },
          "execution_count": 20
        }
      ]
    },
    {
      "cell_type": "code",
      "metadata": {
        "id": "sUI-2W05Ulp-",
        "colab_type": "code",
        "colab": {}
      },
      "source": [
        "trainData.loc[ trainData[\"total_rooms\"] <= 949, \"total_rooms\"] = 0\n",
        "trainData.loc[(trainData[\"total_rooms\"] > 949) & (trainData[\"total_rooms\"] <= 1311), \"total_rooms\"] = 1\n",
        "trainData.loc[(trainData[\"total_rooms\"] > 1311) & (trainData[\"total_rooms\"] <= 1589), \"total_rooms\"] = 2\n",
        "trainData.loc[(trainData[\"total_rooms\"] > 1589) & (trainData[\"total_rooms\"] <= 1842), \"total_rooms\"] = 3\n",
        "trainData.loc[(trainData[\"total_rooms\"] > 1842) & (trainData[\"total_rooms\"] <= 2127), \"total_rooms\"] = 4\n",
        "trainData.loc[(trainData[\"total_rooms\"] > 2127) & (trainData[\"total_rooms\"] <= 2460), \"total_rooms\"] = 5\n",
        "trainData.loc[(trainData[\"total_rooms\"] > 2460) & (trainData[\"total_rooms\"] <= 2879), \"total_rooms\"] = 6\n",
        "trainData.loc[(trainData[\"total_rooms\"] > 2879) & (trainData[\"total_rooms\"] <= 3480), \"total_rooms\"] = 7\n",
        "trainData.loc[(trainData[\"total_rooms\"] > 3480) & (trainData[\"total_rooms\"] <= 4677.1), \"total_rooms\"] = 8\n",
        "trainData.loc[ trainData[\"total_rooms\"] > 4677.1, \"total_rooms\"] = 9\n",
        "trainData[\"total_rooms\"] = trainData[\"total_rooms\"].astype(int)\n",
        "\n",
        "trainData = trainData.drop([\"totalRooms\"], axis=1)"
      ],
      "execution_count": 23,
      "outputs": []
    },
    {
      "cell_type": "code",
      "metadata": {
        "id": "uqh0cjWnMYTB",
        "colab_type": "code",
        "colab": {
          "base_uri": "https://localhost:8080/",
          "height": 297
        },
        "outputId": "13eec5b6-ab03-46f9-be25-c0e972fdf22b"
      },
      "source": [
        "sns.barplot(x=\"total_rooms\", y=\"median_house_value\", data=trainData)"
      ],
      "execution_count": 31,
      "outputs": [
        {
          "output_type": "execute_result",
          "data": {
            "text/plain": [
              "<matplotlib.axes._subplots.AxesSubplot at 0x7f6bf1597668>"
            ]
          },
          "metadata": {
            "tags": []
          },
          "execution_count": 31
        },
        {
          "output_type": "display_data",
          "data": {
            "image/png": "[encoded data removed]",
            "text/plain": [
              "<Figure size 432x288 with 1 Axes>"
            ]
          },
          "metadata": {
            "tags": [],
            "needs_background": "light"
          }
        }
      ]
    },
    {
      "cell_type": "code",
      "metadata": {
        "id": "s9ChzrjBda2V",
        "colab_type": "code",
        "colab": {
          "base_uri": "https://localhost:8080/",
          "height": 235
        },
        "outputId": "3cdf303b-52a8-40de-e848-4ead7816d456"
      },
      "source": [
        "trainData[\"totalBedrooms\"] = pd.qcut(trainData[\"total_bedrooms\"], 5)\n",
        "trainData[[\"totalBedrooms\", \"median_house_value\"]].groupby([\"totalBedrooms\"]).mean()"
      ],
      "execution_count": 37,
      "outputs": [
        {
          "output_type": "execute_result",
          "data": {
            "text/html": [
              "<div>\n",
              "<style scoped>\n",
              "    .dataframe tbody tr th:only-of-type {\n",
              "        vertical-align: middle;\n",
              "    }\n",
              "\n",
              "    .dataframe tbody tr th {\n",
              "        vertical-align: top;\n",
              "    }\n",
              "\n",
              "    .dataframe thead th {\n",
              "        text-align: right;\n",
              "    }\n",
              "</style>\n",
              "<table border=\"1\" class=\"dataframe\">\n",
              "  <thead>\n",
              "    <tr style=\"text-align: right;\">\n",
              "      <th></th>\n",
              "      <th>median_house_value</th>\n",
              "    </tr>\n",
              "    <tr>\n",
              "      <th>totalBedrooms</th>\n",
              "      <th></th>\n",
              "    </tr>\n",
              "  </thead>\n",
              "  <tbody>\n",
              "    <tr>\n",
              "      <th>(0.999, 271.0]</th>\n",
              "      <td>199341.636788</td>\n",
              "    </tr>\n",
              "    <tr>\n",
              "      <th>(271.0, 377.0]</th>\n",
              "      <td>204078.957459</td>\n",
              "    </tr>\n",
              "    <tr>\n",
              "      <th>(377.0, 502.0]</th>\n",
              "      <td>206784.995600</td>\n",
              "    </tr>\n",
              "    <tr>\n",
              "      <th>(502.0, 720.0]</th>\n",
              "      <td>206614.700000</td>\n",
              "    </tr>\n",
              "    <tr>\n",
              "      <th>(720.0, 6445.0]</th>\n",
              "      <td>219760.911236</td>\n",
              "    </tr>\n",
              "  </tbody>\n",
              "</table>\n",
              "</div>"
            ],
            "text/plain": [
              "                 median_house_value\n",
              "totalBedrooms                      \n",
              "(0.999, 271.0]        199341.636788\n",
              "(271.0, 377.0]        204078.957459\n",
              "(377.0, 502.0]        206784.995600\n",
              "(502.0, 720.0]        206614.700000\n",
              "(720.0, 6445.0]       219760.911236"
            ]
          },
          "metadata": {
            "tags": []
          },
          "execution_count": 37
        }
      ]
    },
    {
      "cell_type": "code",
      "metadata": {
        "id": "YbStRNo3Yqf4",
        "colab_type": "code",
        "colab": {}
      },
      "source": [
        "trainData.loc[ trainData[\"total_bedrooms\"] <= 271, \"total_bedrooms\"] = 0\n",
        "trainData.loc[(trainData[\"total_bedrooms\"] > 271) & (trainData[\"total_bedrooms\"] <= 377), \"total_bedrooms\"] = 1\n",
        "trainData.loc[(trainData[\"total_bedrooms\"] > 377) & (trainData[\"total_bedrooms\"] <= 502), \"total_bedrooms\"] = 2\n",
        "trainData.loc[(trainData[\"total_bedrooms\"] > 502) & (trainData[\"total_bedrooms\"] <= 720), \"total_bedrooms\"] = 3\n",
        "trainData.loc[ trainData[\"total_bedrooms\"] > 720, \"total_bedrooms\"] = 4\n",
        "trainData[\"total_bedrooms\"] = trainData[\"total_bedrooms\"].astype(int)\n",
        "\n",
        "trainData = trainData.drop([\"totalBedrooms\"], axis=1)"
      ],
      "execution_count": 38,
      "outputs": []
    },
    {
      "cell_type": "code",
      "metadata": {
        "id": "CC6TIki9ZnVJ",
        "colab_type": "code",
        "colab": {
          "base_uri": "https://localhost:8080/",
          "height": 297
        },
        "outputId": "2b90bbd6-8488-4d40-9a57-136fe13f564c"
      },
      "source": [
        "sns.barplot(x=\"total_bedrooms\", y=\"median_house_value\", data=trainData)"
      ],
      "execution_count": 40,
      "outputs": [
        {
          "output_type": "execute_result",
          "data": {
            "text/plain": [
              "<matplotlib.axes._subplots.AxesSubplot at 0x7f6befc3d908>"
            ]
          },
          "metadata": {
            "tags": []
          },
          "execution_count": 40
        },
        {
          "output_type": "display_data",
          "data": {
            "image/png": "[encoded data removed]",
            "text/plain": [
              "<Figure size 432x288 with 1 Axes>"
            ]
          },
          "metadata": {
            "tags": [],
            "needs_background": "light"
          }
        }
      ]
    },
    {
      "cell_type": "code",
      "metadata": {
        "id": "_DeLwpbMcm-w",
        "colab_type": "code",
        "colab": {
          "base_uri": "https://localhost:8080/",
          "height": 235
        },
        "outputId": "04ef9487-bedb-45ce-8d80-b61920968a39"
      },
      "source": [
        "trainData[\"medianAge\"] = pd.qcut(trainData[\"housing_median_age\"], 5)\n",
        "trainData[[\"medianAge\", \"median_house_value\"]].groupby([\"medianAge\"], as_index=False).mean()"
      ],
      "execution_count": 44,
      "outputs": [
        {
          "output_type": "execute_result",
          "data": {
            "text/html": [
              "<div>\n",
              "<style scoped>\n",
              "    .dataframe tbody tr th:only-of-type {\n",
              "        vertical-align: middle;\n",
              "    }\n",
              "\n",
              "    .dataframe tbody tr th {\n",
              "        vertical-align: top;\n",
              "    }\n",
              "\n",
              "    .dataframe thead th {\n",
              "        text-align: right;\n",
              "    }\n",
              "</style>\n",
              "<table border=\"1\" class=\"dataframe\">\n",
              "  <thead>\n",
              "    <tr style=\"text-align: right;\">\n",
              "      <th></th>\n",
              "      <th>median_house_value</th>\n",
              "    </tr>\n",
              "    <tr>\n",
              "      <th>medianAge</th>\n",
              "      <th></th>\n",
              "    </tr>\n",
              "  </thead>\n",
              "  <tbody>\n",
              "    <tr>\n",
              "      <th>(0.999, 17.0]</th>\n",
              "      <td>193801.674035</td>\n",
              "    </tr>\n",
              "    <tr>\n",
              "      <th>(17.0, 25.0]</th>\n",
              "      <td>203624.472977</td>\n",
              "    </tr>\n",
              "    <tr>\n",
              "      <th>(25.0, 33.0]</th>\n",
              "      <td>205089.264870</td>\n",
              "    </tr>\n",
              "    <tr>\n",
              "      <th>(33.0, 40.0]</th>\n",
              "      <td>207045.171951</td>\n",
              "    </tr>\n",
              "    <tr>\n",
              "      <th>(40.0, 52.0]</th>\n",
              "      <td>230420.302208</td>\n",
              "    </tr>\n",
              "  </tbody>\n",
              "</table>\n",
              "</div>"
            ],
            "text/plain": [
              "               median_house_value\n",
              "medianAge                        \n",
              "(0.999, 17.0]       193801.674035\n",
              "(17.0, 25.0]        203624.472977\n",
              "(25.0, 33.0]        205089.264870\n",
              "(33.0, 40.0]        207045.171951\n",
              "(40.0, 52.0]        230420.302208"
            ]
          },
          "metadata": {
            "tags": []
          },
          "execution_count": 44
        }
      ]
    },
    {
      "cell_type": "code",
      "metadata": {
        "id": "yKmkNPnfd7lL",
        "colab_type": "code",
        "colab": {}
      },
      "source": [
        "trainData.loc[ trainData[\"housing_median_age\"] <= 17, \"housing_median_age\"] = 0\n",
        "trainData.loc[(trainData[\"housing_median_age\"] > 17) & (trainData[\"housing_median_age\"] <= 25), \"housing_median_age\"] = 1\n",
        "trainData.loc[(trainData[\"housing_median_age\"] > 25) & (trainData[\"housing_median_age\"] <= 33), \"housing_median_age\"] = 2\n",
        "trainData.loc[(trainData[\"housing_median_age\"] > 33) & (trainData[\"housing_median_age\"] <= 40), \"housing_median_age\"] = 3\n",
        "trainData.loc[ trainData[\"housing_median_age\"] > 40, \"housing_median_age\"] = 4\n",
        "trainData[\"housing_median_age\"] = trainData[\"housing_median_age\"].astype(int)\n",
        "\n",
        "trainData = trainData.drop([\"medianAge\"], axis=1)"
      ],
      "execution_count": 45,
      "outputs": []
    },
    {
      "cell_type": "code",
      "metadata": {
        "id": "HlF42s0keJwC",
        "colab_type": "code",
        "colab": {
          "base_uri": "https://localhost:8080/",
          "height": 297
        },
        "outputId": "e0f7c84e-b226-4a5d-8136-15a6e8cbe15f"
      },
      "source": [
        "sns.barplot(x=\"housing_median_age\", y=\"median_house_value\", data=trainData)"
      ],
      "execution_count": 46,
      "outputs": [
        {
          "output_type": "execute_result",
          "data": {
            "text/plain": [
              "<matplotlib.axes._subplots.AxesSubplot at 0x7f6bee341978>"
            ]
          },
          "metadata": {
            "tags": []
          },
          "execution_count": 46
        },
        {
          "output_type": "display_data",
          "data": {
            "image/png": "[encoded data removed]",
            "text/plain": [
              "<Figure size 432x288 with 1 Axes>"
            ]
          },
          "metadata": {
            "tags": [],
            "needs_background": "light"
          }
        }
      ]
    },
    {
      "cell_type": "code",
      "metadata": {
        "id": "STWrb4jGeeCs",
        "colab_type": "code",
        "colab": {
          "base_uri": "https://localhost:8080/",
          "height": 266
        },
        "outputId": "60386c96-83c3-4838-bc2c-39869bf5062d"
      },
      "source": [
        "trainData[\"populationBand\"] = pd.qcut(trainData[\"population\"], 7)\n",
        "trainData[[\"populationBand\", \"median_house_value\"]].groupby([\"populationBand\"], as_index=False).mean()"
      ],
      "execution_count": 53,
      "outputs": [
        {
          "output_type": "execute_result",
          "data": {
            "text/html": [
              "<div>\n",
              "<style scoped>\n",
              "    .dataframe tbody tr th:only-of-type {\n",
              "        vertical-align: middle;\n",
              "    }\n",
              "\n",
              "    .dataframe tbody tr th {\n",
              "        vertical-align: top;\n",
              "    }\n",
              "\n",
              "    .dataframe thead th {\n",
              "        text-align: right;\n",
              "    }\n",
              "</style>\n",
              "<table border=\"1\" class=\"dataframe\">\n",
              "  <thead>\n",
              "    <tr style=\"text-align: right;\">\n",
              "      <th></th>\n",
              "      <th>populationBand</th>\n",
              "      <th>median_house_value</th>\n",
              "    </tr>\n",
              "  </thead>\n",
              "  <tbody>\n",
              "    <tr>\n",
              "      <th>0</th>\n",
              "      <td>(2.999, 610.0]</td>\n",
              "      <td>211735.836827</td>\n",
              "    </tr>\n",
              "    <tr>\n",
              "      <th>1</th>\n",
              "      <td>(610.0, 840.0]</td>\n",
              "      <td>216600.272577</td>\n",
              "    </tr>\n",
              "    <tr>\n",
              "      <th>2</th>\n",
              "      <td>(840.0, 1052.0]</td>\n",
              "      <td>211353.508642</td>\n",
              "    </tr>\n",
              "    <tr>\n",
              "      <th>3</th>\n",
              "      <td>(1052.0, 1292.714]</td>\n",
              "      <td>207445.758450</td>\n",
              "    </tr>\n",
              "    <tr>\n",
              "      <th>4</th>\n",
              "      <td>(1292.714, 1614.0]</td>\n",
              "      <td>203315.339638</td>\n",
              "    </tr>\n",
              "    <tr>\n",
              "      <th>5</th>\n",
              "      <td>(1614.0, 2203.571]</td>\n",
              "      <td>199667.983093</td>\n",
              "    </tr>\n",
              "    <tr>\n",
              "      <th>6</th>\n",
              "      <td>(2203.571, 35682.0]</td>\n",
              "      <td>200986.561136</td>\n",
              "    </tr>\n",
              "  </tbody>\n",
              "</table>\n",
              "</div>"
            ],
            "text/plain": [
              "        populationBand  median_house_value\n",
              "0       (2.999, 610.0]       211735.836827\n",
              "1       (610.0, 840.0]       216600.272577\n",
              "2      (840.0, 1052.0]       211353.508642\n",
              "3   (1052.0, 1292.714]       207445.758450\n",
              "4   (1292.714, 1614.0]       203315.339638\n",
              "5   (1614.0, 2203.571]       199667.983093\n",
              "6  (2203.571, 35682.0]       200986.561136"
            ]
          },
          "metadata": {
            "tags": []
          },
          "execution_count": 53
        }
      ]
    },
    {
      "cell_type": "code",
      "metadata": {
        "id": "zMTvCKFfe0pn",
        "colab_type": "code",
        "colab": {}
      },
      "source": [
        "trainData.loc[ trainData[\"population\"] <= 610, \"population\"] = 0\n",
        "trainData.loc[(trainData[\"population\"] > 610) & (trainData[\"population\"] <= 840), \"population\"] = 1\n",
        "trainData.loc[(trainData[\"population\"] > 840) & (trainData[\"population\"] <= 1052), \"population\"] = 2\n",
        "trainData.loc[(trainData[\"population\"] > 1052) & (trainData[\"population\"] <= 1292.714), \"population\"] = 3\n",
        "trainData.loc[(trainData[\"population\"] > 1292.714) & (trainData[\"population\"] <= 1614), \"population\"] = 4\n",
        "trainData.loc[(trainData[\"population\"] > 1614) & (trainData[\"population\"] <= 2203.571), \"population\"] = 5\n",
        "trainData.loc[ trainData[\"population\"] > 2203.571, \"population\"] = 6\n",
        "trainData[\"population\"] = trainData[\"population\"].astype(int)\n",
        "\n",
        "trainData = trainData.drop([\"populationBand\"], axis=1)"
      ],
      "execution_count": 54,
      "outputs": []
    },
    {
      "cell_type": "code",
      "metadata": {
        "id": "gFKBix4ckIds",
        "colab_type": "code",
        "colab": {
          "base_uri": "https://localhost:8080/",
          "height": 296
        },
        "outputId": "b0e92ef5-5fe2-4fa0-b051-b0cb548a1db0"
      },
      "source": [
        "sns.barplot(x=\"population\", y=\"median_house_value\", data=trainData)"
      ],
      "execution_count": 55,
      "outputs": [
        {
          "output_type": "execute_result",
          "data": {
            "text/plain": [
              "<matplotlib.axes._subplots.AxesSubplot at 0x7f6bee316c18>"
            ]
          },
          "metadata": {
            "tags": []
          },
          "execution_count": 55
        },
        {
          "output_type": "display_data",
          "data": {
            "image/png": "[encoded data removed]",
            "text/plain": [
              "<Figure size 432x288 with 1 Axes>"
            ]
          },
          "metadata": {
            "tags": [],
            "needs_background": "light"
          }
        }
      ]
    },
    {
      "cell_type": "code",
      "metadata": {
        "id": "sY_GwkIGkSI_",
        "colab_type": "code",
        "colab": {
          "base_uri": "https://localhost:8080/",
          "height": 204
        },
        "outputId": "bacfe1d9-d875-4274-e527-26cc62584338"
      },
      "source": [
        "trainData[\"householdsBand\"] = pd.qcut(trainData[\"households\"], 5)\n",
        "trainData[[\"householdsBand\", \"median_house_value\"]].groupby([\"householdsBand\"], as_index=False).mean()"
      ],
      "execution_count": 59,
      "outputs": [
        {
          "output_type": "execute_result",
          "data": {
            "text/html": [
              "<div>\n",
              "<style scoped>\n",
              "    .dataframe tbody tr th:only-of-type {\n",
              "        vertical-align: middle;\n",
              "    }\n",
              "\n",
              "    .dataframe tbody tr th {\n",
              "        vertical-align: top;\n",
              "    }\n",
              "\n",
              "    .dataframe thead th {\n",
              "        text-align: right;\n",
              "    }\n",
              "</style>\n",
              "<table border=\"1\" class=\"dataframe\">\n",
              "  <thead>\n",
              "    <tr style=\"text-align: right;\">\n",
              "      <th></th>\n",
              "      <th>householdsBand</th>\n",
              "      <th>median_house_value</th>\n",
              "    </tr>\n",
              "  </thead>\n",
              "  <tbody>\n",
              "    <tr>\n",
              "      <th>0</th>\n",
              "      <td>(0.999, 255.0]</td>\n",
              "      <td>195774.914520</td>\n",
              "    </tr>\n",
              "    <tr>\n",
              "      <th>1</th>\n",
              "      <td>(255.0, 355.0]</td>\n",
              "      <td>202443.998524</td>\n",
              "    </tr>\n",
              "    <tr>\n",
              "      <th>2</th>\n",
              "      <td>(355.0, 471.0]</td>\n",
              "      <td>207452.910079</td>\n",
              "    </tr>\n",
              "    <tr>\n",
              "      <th>3</th>\n",
              "      <td>(471.0, 667.0]</td>\n",
              "      <td>210091.291311</td>\n",
              "    </tr>\n",
              "    <tr>\n",
              "      <th>4</th>\n",
              "      <td>(667.0, 6082.0]</td>\n",
              "      <td>220790.449676</td>\n",
              "    </tr>\n",
              "  </tbody>\n",
              "</table>\n",
              "</div>"
            ],
            "text/plain": [
              "    householdsBand  median_house_value\n",
              "0   (0.999, 255.0]       195774.914520\n",
              "1   (255.0, 355.0]       202443.998524\n",
              "2   (355.0, 471.0]       207452.910079\n",
              "3   (471.0, 667.0]       210091.291311\n",
              "4  (667.0, 6082.0]       220790.449676"
            ]
          },
          "metadata": {
            "tags": []
          },
          "execution_count": 59
        }
      ]
    },
    {
      "cell_type": "code",
      "metadata": {
        "id": "hQt8SgfBkfTX",
        "colab_type": "code",
        "colab": {}
      },
      "source": [
        "trainData.loc[ trainData[\"households\"] <= 255, \"households\"] = 0\n",
        "trainData.loc[(trainData[\"households\"] > 255) & (trainData[\"households\"] <= 355), \"households\"] = 1\n",
        "trainData.loc[(trainData[\"households\"] > 355) & (trainData[\"households\"] <= 471), \"households\"] = 2\n",
        "trainData.loc[(trainData[\"households\"] > 471) & (trainData[\"households\"] <= 667), \"households\"] = 3\n",
        "trainData.loc[ trainData[\"households\"] > 667, \"households\"] = 4\n",
        "trainData[\"households\"] = trainData[\"households\"].astype(int)\n",
        "\n",
        "trainData = trainData.drop([\"householdsBand\"], axis=1)"
      ],
      "execution_count": 60,
      "outputs": []
    },
    {
      "cell_type": "code",
      "metadata": {
        "id": "7XaMelG3kus4",
        "colab_type": "code",
        "colab": {
          "base_uri": "https://localhost:8080/",
          "height": 296
        },
        "outputId": "9d618499-9028-4163-c8cb-998cfbd78b68"
      },
      "source": [
        "sns.barplot(x=\"households\", y=\"median_house_value\", data=trainData)"
      ],
      "execution_count": 61,
      "outputs": [
        {
          "output_type": "execute_result",
          "data": {
            "text/plain": [
              "<matplotlib.axes._subplots.AxesSubplot at 0x7f6bee2e1ef0>"
            ]
          },
          "metadata": {
            "tags": []
          },
          "execution_count": 61
        },
        {
          "output_type": "display_data",
          "data": {
            "image/png": "[encoded data removed]",
            "text/plain": [
              "<Figure size 432x288 with 1 Axes>"
            ]
          },
          "metadata": {
            "tags": [],
            "needs_background": "light"
          }
        }
      ]
    },
    {
      "cell_type": "code",
      "metadata": {
        "id": "FbL7YBxXUKBL",
        "colab_type": "code",
        "colab": {}
      },
      "source": [
        "x_train = trainData.drop(\"median_house_value\", axis=1)\n",
        "y_train = trainData[\"median_house_value\"]\n",
        "x_test = testData.drop(\"median_house_value\", axis=1)\n",
        "y_test = testData[\"median_house_value\"]"
      ],
      "execution_count": 74,
      "outputs": []
    }
  ]
}