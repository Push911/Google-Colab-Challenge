{
  "nbformat": 4,
  "nbformat_minor": 0,
  "metadata": {
    "colab": {
      "name": "Google: California housing.ipynb",
      "provenance": []
    },
    "kernelspec": {
      "name": "python3",
      "display_name": "Python 3"
    }
  },
  "cells": [
    {
      "cell_type": "code",
      "metadata": {
        "id": "G2T-02ETTxbw",
        "colab_type": "code",
        "colab": {}
      },
      "source": [
        "import os\n",
        "import pandas as pd\n",
        "import numpy as np\n",
        "import seaborn as sns\n",
        "import matplotlib.pyplot as plt\n",
        "import keras\n",
        "from keras import Sequential, utils\n",
        "from keras.layers import Flatten, Dense\n",
        "from keras.optimizers import Adam, SGD\n",
        "from sklearn.linear_model import LinearRegression\n",
        "from sklearn.linear_model import LogisticRegression\n",
        "from sklearn.naive_bayes import GaussianNB\n",
        "from sklearn.linear_model import Perceptron\n",
        "from sklearn.linear_model import SGDClassifier\n",
        "from sklearn.metrics import mean_squared_error"
      ],
      "execution_count": 122,
      "outputs": []
    },
    {
      "cell_type": "code",
      "metadata": {
        "id": "vhgAoqV6UIQu",
        "colab_type": "code",
        "colab": {}
      },
      "source": [
        "trainData = pd.read_csv(\"sample_data/california_housing_train.csv\")\n",
        "testData = pd.read_csv(\"sample_data/california_housing_test.csv\")"
      ],
      "execution_count": 2,
      "outputs": []
    },
    {
      "cell_type": "code",
      "metadata": {
        "id": "j_8Se9nuVLCr",
        "colab_type": "code",
        "colab": {
          "base_uri": "https://localhost:8080/",
          "height": 419
        },
        "outputId": "57ad62d4-39d3-4659-e146-9eee03e70a8c"
      },
      "source": [
        "trainData"
      ],
      "execution_count": 3,
      "outputs": [
        {
          "output_type": "execute_result",
          "data": {
            "text/html": [
              "<div>\n",
              "<style scoped>\n",
              "    .dataframe tbody tr th:only-of-type {\n",
              "        vertical-align: middle;\n",
              "    }\n",
              "\n",
              "    .dataframe tbody tr th {\n",
              "        vertical-align: top;\n",
              "    }\n",
              "\n",
              "    .dataframe thead th {\n",
              "        text-align: right;\n",
              "    }\n",
              "</style>\n",
              "<table border=\"1\" class=\"dataframe\">\n",
              "  <thead>\n",
              "    <tr style=\"text-align: right;\">\n",
              "      <th></th>\n",
              "      <th>longitude</th>\n",
              "      <th>latitude</th>\n",
              "      <th>housing_median_age</th>\n",
              "      <th>total_rooms</th>\n",
              "      <th>total_bedrooms</th>\n",
              "      <th>population</th>\n",
              "      <th>households</th>\n",
              "      <th>median_income</th>\n",
              "      <th>median_house_value</th>\n",
              "    </tr>\n",
              "  </thead>\n",
              "  <tbody>\n",
              "    <tr>\n",
              "      <th>0</th>\n",
              "      <td>-114.31</td>\n",
              "      <td>34.19</td>\n",
              "      <td>15.0</td>\n",
              "      <td>5612.0</td>\n",
              "      <td>1283.0</td>\n",
              "      <td>1015.0</td>\n",
              "      <td>472.0</td>\n",
              "      <td>1.4936</td>\n",
              "      <td>66900.0</td>\n",
              "    </tr>\n",
              "    <tr>\n",
              "      <th>1</th>\n",
              "      <td>-114.47</td>\n",
              "      <td>34.40</td>\n",
              "      <td>19.0</td>\n",
              "      <td>7650.0</td>\n",
              "      <td>1901.0</td>\n",
              "      <td>1129.0</td>\n",
              "      <td>463.0</td>\n",
              "      <td>1.8200</td>\n",
              "      <td>80100.0</td>\n",
              "    </tr>\n",
              "    <tr>\n",
              "      <th>2</th>\n",
              "      <td>-114.56</td>\n",
              "      <td>33.69</td>\n",
              "      <td>17.0</td>\n",
              "      <td>720.0</td>\n",
              "      <td>174.0</td>\n",
              "      <td>333.0</td>\n",
              "      <td>117.0</td>\n",
              "      <td>1.6509</td>\n",
              "      <td>85700.0</td>\n",
              "    </tr>\n",
              "    <tr>\n",
              "      <th>3</th>\n",
              "      <td>-114.57</td>\n",
              "      <td>33.64</td>\n",
              "      <td>14.0</td>\n",
              "      <td>1501.0</td>\n",
              "      <td>337.0</td>\n",
              "      <td>515.0</td>\n",
              "      <td>226.0</td>\n",
              "      <td>3.1917</td>\n",
              "      <td>73400.0</td>\n",
              "    </tr>\n",
              "    <tr>\n",
              "      <th>4</th>\n",
              "      <td>-114.57</td>\n",
              "      <td>33.57</td>\n",
              "      <td>20.0</td>\n",
              "      <td>1454.0</td>\n",
              "      <td>326.0</td>\n",
              "      <td>624.0</td>\n",
              "      <td>262.0</td>\n",
              "      <td>1.9250</td>\n",
              "      <td>65500.0</td>\n",
              "    </tr>\n",
              "    <tr>\n",
              "      <th>...</th>\n",
              "      <td>...</td>\n",
              "      <td>...</td>\n",
              "      <td>...</td>\n",
              "      <td>...</td>\n",
              "      <td>...</td>\n",
              "      <td>...</td>\n",
              "      <td>...</td>\n",
              "      <td>...</td>\n",
              "      <td>...</td>\n",
              "    </tr>\n",
              "    <tr>\n",
              "      <th>16995</th>\n",
              "      <td>-124.26</td>\n",
              "      <td>40.58</td>\n",
              "      <td>52.0</td>\n",
              "      <td>2217.0</td>\n",
              "      <td>394.0</td>\n",
              "      <td>907.0</td>\n",
              "      <td>369.0</td>\n",
              "      <td>2.3571</td>\n",
              "      <td>111400.0</td>\n",
              "    </tr>\n",
              "    <tr>\n",
              "      <th>16996</th>\n",
              "      <td>-124.27</td>\n",
              "      <td>40.69</td>\n",
              "      <td>36.0</td>\n",
              "      <td>2349.0</td>\n",
              "      <td>528.0</td>\n",
              "      <td>1194.0</td>\n",
              "      <td>465.0</td>\n",
              "      <td>2.5179</td>\n",
              "      <td>79000.0</td>\n",
              "    </tr>\n",
              "    <tr>\n",
              "      <th>16997</th>\n",
              "      <td>-124.30</td>\n",
              "      <td>41.84</td>\n",
              "      <td>17.0</td>\n",
              "      <td>2677.0</td>\n",
              "      <td>531.0</td>\n",
              "      <td>1244.0</td>\n",
              "      <td>456.0</td>\n",
              "      <td>3.0313</td>\n",
              "      <td>103600.0</td>\n",
              "    </tr>\n",
              "    <tr>\n",
              "      <th>16998</th>\n",
              "      <td>-124.30</td>\n",
              "      <td>41.80</td>\n",
              "      <td>19.0</td>\n",
              "      <td>2672.0</td>\n",
              "      <td>552.0</td>\n",
              "      <td>1298.0</td>\n",
              "      <td>478.0</td>\n",
              "      <td>1.9797</td>\n",
              "      <td>85800.0</td>\n",
              "    </tr>\n",
              "    <tr>\n",
              "      <th>16999</th>\n",
              "      <td>-124.35</td>\n",
              "      <td>40.54</td>\n",
              "      <td>52.0</td>\n",
              "      <td>1820.0</td>\n",
              "      <td>300.0</td>\n",
              "      <td>806.0</td>\n",
              "      <td>270.0</td>\n",
              "      <td>3.0147</td>\n",
              "      <td>94600.0</td>\n",
              "    </tr>\n",
              "  </tbody>\n",
              "</table>\n",
              "<p>17000 rows × 9 columns</p>\n",
              "</div>"
            ],
            "text/plain": [
              "       longitude  latitude  ...  median_income  median_house_value\n",
              "0        -114.31     34.19  ...         1.4936             66900.0\n",
              "1        -114.47     34.40  ...         1.8200             80100.0\n",
              "2        -114.56     33.69  ...         1.6509             85700.0\n",
              "3        -114.57     33.64  ...         3.1917             73400.0\n",
              "4        -114.57     33.57  ...         1.9250             65500.0\n",
              "...          ...       ...  ...            ...                 ...\n",
              "16995    -124.26     40.58  ...         2.3571            111400.0\n",
              "16996    -124.27     40.69  ...         2.5179             79000.0\n",
              "16997    -124.30     41.84  ...         3.0313            103600.0\n",
              "16998    -124.30     41.80  ...         1.9797             85800.0\n",
              "16999    -124.35     40.54  ...         3.0147             94600.0\n",
              "\n",
              "[17000 rows x 9 columns]"
            ]
          },
          "metadata": {
            "tags": []
          },
          "execution_count": 3
        }
      ]
    },
    {
      "cell_type": "code",
      "metadata": {
        "id": "d-sCKNbzVMp0",
        "colab_type": "code",
        "colab": {
          "base_uri": "https://localhost:8080/",
          "height": 419
        },
        "outputId": "cddab3db-7332-4762-9afc-b9f9bb1173af"
      },
      "source": [
        "testData"
      ],
      "execution_count": 4,
      "outputs": [
        {
          "output_type": "execute_result",
          "data": {
            "text/html": [
              "<div>\n",
              "<style scoped>\n",
              "    .dataframe tbody tr th:only-of-type {\n",
              "        vertical-align: middle;\n",
              "    }\n",
              "\n",
              "    .dataframe tbody tr th {\n",
              "        vertical-align: top;\n",
              "    }\n",
              "\n",
              "    .dataframe thead th {\n",
              "        text-align: right;\n",
              "    }\n",
              "</style>\n",
              "<table border=\"1\" class=\"dataframe\">\n",
              "  <thead>\n",
              "    <tr style=\"text-align: right;\">\n",
              "      <th></th>\n",
              "      <th>longitude</th>\n",
              "      <th>latitude</th>\n",
              "      <th>housing_median_age</th>\n",
              "      <th>total_rooms</th>\n",
              "      <th>total_bedrooms</th>\n",
              "      <th>population</th>\n",
              "      <th>households</th>\n",
              "      <th>median_income</th>\n",
              "      <th>median_house_value</th>\n",
              "    </tr>\n",
              "  </thead>\n",
              "  <tbody>\n",
              "    <tr>\n",
              "      <th>0</th>\n",
              "      <td>-122.05</td>\n",
              "      <td>37.37</td>\n",
              "      <td>27.0</td>\n",
              "      <td>3885.0</td>\n",
              "      <td>661.0</td>\n",
              "      <td>1537.0</td>\n",
              "      <td>606.0</td>\n",
              "      <td>6.6085</td>\n",
              "      <td>344700.0</td>\n",
              "    </tr>\n",
              "    <tr>\n",
              "      <th>1</th>\n",
              "      <td>-118.30</td>\n",
              "      <td>34.26</td>\n",
              "      <td>43.0</td>\n",
              "      <td>1510.0</td>\n",
              "      <td>310.0</td>\n",
              "      <td>809.0</td>\n",
              "      <td>277.0</td>\n",
              "      <td>3.5990</td>\n",
              "      <td>176500.0</td>\n",
              "    </tr>\n",
              "    <tr>\n",
              "      <th>2</th>\n",
              "      <td>-117.81</td>\n",
              "      <td>33.78</td>\n",
              "      <td>27.0</td>\n",
              "      <td>3589.0</td>\n",
              "      <td>507.0</td>\n",
              "      <td>1484.0</td>\n",
              "      <td>495.0</td>\n",
              "      <td>5.7934</td>\n",
              "      <td>270500.0</td>\n",
              "    </tr>\n",
              "    <tr>\n",
              "      <th>3</th>\n",
              "      <td>-118.36</td>\n",
              "      <td>33.82</td>\n",
              "      <td>28.0</td>\n",
              "      <td>67.0</td>\n",
              "      <td>15.0</td>\n",
              "      <td>49.0</td>\n",
              "      <td>11.0</td>\n",
              "      <td>6.1359</td>\n",
              "      <td>330000.0</td>\n",
              "    </tr>\n",
              "    <tr>\n",
              "      <th>4</th>\n",
              "      <td>-119.67</td>\n",
              "      <td>36.33</td>\n",
              "      <td>19.0</td>\n",
              "      <td>1241.0</td>\n",
              "      <td>244.0</td>\n",
              "      <td>850.0</td>\n",
              "      <td>237.0</td>\n",
              "      <td>2.9375</td>\n",
              "      <td>81700.0</td>\n",
              "    </tr>\n",
              "    <tr>\n",
              "      <th>...</th>\n",
              "      <td>...</td>\n",
              "      <td>...</td>\n",
              "      <td>...</td>\n",
              "      <td>...</td>\n",
              "      <td>...</td>\n",
              "      <td>...</td>\n",
              "      <td>...</td>\n",
              "      <td>...</td>\n",
              "      <td>...</td>\n",
              "    </tr>\n",
              "    <tr>\n",
              "      <th>2995</th>\n",
              "      <td>-119.86</td>\n",
              "      <td>34.42</td>\n",
              "      <td>23.0</td>\n",
              "      <td>1450.0</td>\n",
              "      <td>642.0</td>\n",
              "      <td>1258.0</td>\n",
              "      <td>607.0</td>\n",
              "      <td>1.1790</td>\n",
              "      <td>225000.0</td>\n",
              "    </tr>\n",
              "    <tr>\n",
              "      <th>2996</th>\n",
              "      <td>-118.14</td>\n",
              "      <td>34.06</td>\n",
              "      <td>27.0</td>\n",
              "      <td>5257.0</td>\n",
              "      <td>1082.0</td>\n",
              "      <td>3496.0</td>\n",
              "      <td>1036.0</td>\n",
              "      <td>3.3906</td>\n",
              "      <td>237200.0</td>\n",
              "    </tr>\n",
              "    <tr>\n",
              "      <th>2997</th>\n",
              "      <td>-119.70</td>\n",
              "      <td>36.30</td>\n",
              "      <td>10.0</td>\n",
              "      <td>956.0</td>\n",
              "      <td>201.0</td>\n",
              "      <td>693.0</td>\n",
              "      <td>220.0</td>\n",
              "      <td>2.2895</td>\n",
              "      <td>62000.0</td>\n",
              "    </tr>\n",
              "    <tr>\n",
              "      <th>2998</th>\n",
              "      <td>-117.12</td>\n",
              "      <td>34.10</td>\n",
              "      <td>40.0</td>\n",
              "      <td>96.0</td>\n",
              "      <td>14.0</td>\n",
              "      <td>46.0</td>\n",
              "      <td>14.0</td>\n",
              "      <td>3.2708</td>\n",
              "      <td>162500.0</td>\n",
              "    </tr>\n",
              "    <tr>\n",
              "      <th>2999</th>\n",
              "      <td>-119.63</td>\n",
              "      <td>34.42</td>\n",
              "      <td>42.0</td>\n",
              "      <td>1765.0</td>\n",
              "      <td>263.0</td>\n",
              "      <td>753.0</td>\n",
              "      <td>260.0</td>\n",
              "      <td>8.5608</td>\n",
              "      <td>500001.0</td>\n",
              "    </tr>\n",
              "  </tbody>\n",
              "</table>\n",
              "<p>3000 rows × 9 columns</p>\n",
              "</div>"
            ],
            "text/plain": [
              "      longitude  latitude  ...  median_income  median_house_value\n",
              "0       -122.05     37.37  ...         6.6085            344700.0\n",
              "1       -118.30     34.26  ...         3.5990            176500.0\n",
              "2       -117.81     33.78  ...         5.7934            270500.0\n",
              "3       -118.36     33.82  ...         6.1359            330000.0\n",
              "4       -119.67     36.33  ...         2.9375             81700.0\n",
              "...         ...       ...  ...            ...                 ...\n",
              "2995    -119.86     34.42  ...         1.1790            225000.0\n",
              "2996    -118.14     34.06  ...         3.3906            237200.0\n",
              "2997    -119.70     36.30  ...         2.2895             62000.0\n",
              "2998    -117.12     34.10  ...         3.2708            162500.0\n",
              "2999    -119.63     34.42  ...         8.5608            500001.0\n",
              "\n",
              "[3000 rows x 9 columns]"
            ]
          },
          "metadata": {
            "tags": []
          },
          "execution_count": 4
        }
      ]
    },
    {
      "cell_type": "code",
      "metadata": {
        "id": "ijAB4p7eVPol",
        "colab_type": "code",
        "colab": {}
      },
      "source": [
        "trainData[\"totalRooms\"] = pd.qcut(trainData[\"total_rooms\"], 10)"
      ],
      "execution_count": 17,
      "outputs": []
    },
    {
      "cell_type": "code",
      "metadata": {
        "id": "vrdAR1n7URGu",
        "colab_type": "code",
        "colab": {
          "base_uri": "https://localhost:8080/",
          "height": 359
        },
        "outputId": "5adc4be0-4e56-4b05-d9fc-2f1c465d29ee"
      },
      "source": [
        "trainData[[\"totalRooms\", \"median_house_value\"]].groupby([\"totalRooms\"], as_index=False).mean()"
      ],
      "execution_count": 18,
      "outputs": [
        {
          "output_type": "execute_result",
          "data": {
            "text/html": [
              "<div>\n",
              "<style scoped>\n",
              "    .dataframe tbody tr th:only-of-type {\n",
              "        vertical-align: middle;\n",
              "    }\n",
              "\n",
              "    .dataframe tbody tr th {\n",
              "        vertical-align: top;\n",
              "    }\n",
              "\n",
              "    .dataframe thead th {\n",
              "        text-align: right;\n",
              "    }\n",
              "</style>\n",
              "<table border=\"1\" class=\"dataframe\">\n",
              "  <thead>\n",
              "    <tr style=\"text-align: right;\">\n",
              "      <th></th>\n",
              "      <th>totalRooms</th>\n",
              "      <th>median_house_value</th>\n",
              "    </tr>\n",
              "  </thead>\n",
              "  <tbody>\n",
              "    <tr>\n",
              "      <th>0</th>\n",
              "      <td>(1.999, 949.0]</td>\n",
              "      <td>173689.401880</td>\n",
              "    </tr>\n",
              "    <tr>\n",
              "      <th>1</th>\n",
              "      <td>(949.0, 1311.0]</td>\n",
              "      <td>178892.803173</td>\n",
              "    </tr>\n",
              "    <tr>\n",
              "      <th>2</th>\n",
              "      <td>(1311.0, 1589.0]</td>\n",
              "      <td>190888.200236</td>\n",
              "    </tr>\n",
              "    <tr>\n",
              "      <th>3</th>\n",
              "      <td>(1589.0, 1842.0]</td>\n",
              "      <td>196626.877575</td>\n",
              "    </tr>\n",
              "    <tr>\n",
              "      <th>4</th>\n",
              "      <td>(1842.0, 2127.0]</td>\n",
              "      <td>202958.096357</td>\n",
              "    </tr>\n",
              "    <tr>\n",
              "      <th>5</th>\n",
              "      <td>(2127.0, 2460.0]</td>\n",
              "      <td>209298.331176</td>\n",
              "    </tr>\n",
              "    <tr>\n",
              "      <th>6</th>\n",
              "      <td>(2460.0, 2879.0]</td>\n",
              "      <td>222053.228555</td>\n",
              "    </tr>\n",
              "    <tr>\n",
              "      <th>7</th>\n",
              "      <td>(2879.0, 3480.0]</td>\n",
              "      <td>226060.268278</td>\n",
              "    </tr>\n",
              "    <tr>\n",
              "      <th>8</th>\n",
              "      <td>(3480.0, 4677.1]</td>\n",
              "      <td>238025.849323</td>\n",
              "    </tr>\n",
              "    <tr>\n",
              "      <th>9</th>\n",
              "      <td>(4677.1, 37937.0]</td>\n",
              "      <td>234613.410000</td>\n",
              "    </tr>\n",
              "  </tbody>\n",
              "</table>\n",
              "</div>"
            ],
            "text/plain": [
              "          totalRooms  median_house_value\n",
              "0     (1.999, 949.0]       173689.401880\n",
              "1    (949.0, 1311.0]       178892.803173\n",
              "2   (1311.0, 1589.0]       190888.200236\n",
              "3   (1589.0, 1842.0]       196626.877575\n",
              "4   (1842.0, 2127.0]       202958.096357\n",
              "5   (2127.0, 2460.0]       209298.331176\n",
              "6   (2460.0, 2879.0]       222053.228555\n",
              "7   (2879.0, 3480.0]       226060.268278\n",
              "8   (3480.0, 4677.1]       238025.849323\n",
              "9  (4677.1, 37937.0]       234613.410000"
            ]
          },
          "metadata": {
            "tags": []
          },
          "execution_count": 18
        }
      ]
    },
    {
      "cell_type": "code",
      "metadata": {
        "id": "sUI-2W05Ulp-",
        "colab_type": "code",
        "colab": {}
      },
      "source": [
        "trainData.loc[ trainData[\"total_rooms\"] <= 949, \"total_rooms\"] = 0\n",
        "trainData.loc[(trainData[\"total_rooms\"] > 949) & (trainData[\"total_rooms\"] <= 1311), \"total_rooms\"] = 1\n",
        "trainData.loc[(trainData[\"total_rooms\"] > 1311) & (trainData[\"total_rooms\"] <= 1589), \"total_rooms\"] = 2\n",
        "trainData.loc[(trainData[\"total_rooms\"] > 1589) & (trainData[\"total_rooms\"] <= 1842), \"total_rooms\"] = 3\n",
        "trainData.loc[(trainData[\"total_rooms\"] > 1842) & (trainData[\"total_rooms\"] <= 2127), \"total_rooms\"] = 4\n",
        "trainData.loc[(trainData[\"total_rooms\"] > 2127) & (trainData[\"total_rooms\"] <= 2460), \"total_rooms\"] = 5\n",
        "trainData.loc[(trainData[\"total_rooms\"] > 2460) & (trainData[\"total_rooms\"] <= 2879), \"total_rooms\"] = 6\n",
        "trainData.loc[(trainData[\"total_rooms\"] > 2879) & (trainData[\"total_rooms\"] <= 3480), \"total_rooms\"] = 7\n",
        "trainData.loc[(trainData[\"total_rooms\"] > 3480) & (trainData[\"total_rooms\"] <= 4677.1), \"total_rooms\"] = 8\n",
        "trainData.loc[ trainData[\"total_rooms\"] > 4677.1, \"total_rooms\"] = 9\n",
        "trainData[\"total_rooms\"] = trainData[\"total_rooms\"].astype(int)\n",
        "\n",
        "trainData = trainData.drop([\"totalRooms\"], axis=1)"
      ],
      "execution_count": 19,
      "outputs": []
    },
    {
      "cell_type": "code",
      "metadata": {
        "id": "uqh0cjWnMYTB",
        "colab_type": "code",
        "colab": {
          "base_uri": "https://localhost:8080/",
          "height": 297
        },
        "outputId": "7a756f6e-13e1-49af-89bb-3e34a2012f7d"
      },
      "source": [
        "sns.barplot(x=\"total_rooms\", y=\"median_house_value\", data=trainData)"
      ],
      "execution_count": 20,
      "outputs": [
        {
          "output_type": "execute_result",
          "data": {
            "text/plain": [
              "<matplotlib.axes._subplots.AxesSubplot at 0x7f959b6db208>"
            ]
          },
          "metadata": {
            "tags": []
          },
          "execution_count": 20
        },
        {
          "output_type": "display_data",
          "data": {
            "image/png": "[encoded data removed]",
            "text/plain": [
              "<Figure size 432x288 with 1 Axes>"
            ]
          },
          "metadata": {
            "tags": [],
            "needs_background": "light"
          }
        }
      ]
    },
    {
      "cell_type": "code",
      "metadata": {
        "id": "s9ChzrjBda2V",
        "colab_type": "code",
        "colab": {
          "base_uri": "https://localhost:8080/",
          "height": 235
        },
        "outputId": "84eb67c7-c874-4990-b43d-78aeecb6d1b9"
      },
      "source": [
        "trainData[\"totalBedrooms\"] = pd.qcut(trainData[\"total_bedrooms\"], 5)\n",
        "trainData[[\"totalBedrooms\", \"median_house_value\"]].groupby([\"totalBedrooms\"]).mean()"
      ],
      "execution_count": 21,
      "outputs": [
        {
          "output_type": "execute_result",
          "data": {
            "text/html": [
              "<div>\n",
              "<style scoped>\n",
              "    .dataframe tbody tr th:only-of-type {\n",
              "        vertical-align: middle;\n",
              "    }\n",
              "\n",
              "    .dataframe tbody tr th {\n",
              "        vertical-align: top;\n",
              "    }\n",
              "\n",
              "    .dataframe thead th {\n",
              "        text-align: right;\n",
              "    }\n",
              "</style>\n",
              "<table border=\"1\" class=\"dataframe\">\n",
              "  <thead>\n",
              "    <tr style=\"text-align: right;\">\n",
              "      <th></th>\n",
              "      <th>median_house_value</th>\n",
              "    </tr>\n",
              "    <tr>\n",
              "      <th>totalBedrooms</th>\n",
              "      <th></th>\n",
              "    </tr>\n",
              "  </thead>\n",
              "  <tbody>\n",
              "    <tr>\n",
              "      <th>(0.999, 271.0]</th>\n",
              "      <td>199341.636788</td>\n",
              "    </tr>\n",
              "    <tr>\n",
              "      <th>(271.0, 377.0]</th>\n",
              "      <td>204078.957459</td>\n",
              "    </tr>\n",
              "    <tr>\n",
              "      <th>(377.0, 502.0]</th>\n",
              "      <td>206784.995600</td>\n",
              "    </tr>\n",
              "    <tr>\n",
              "      <th>(502.0, 720.0]</th>\n",
              "      <td>206614.700000</td>\n",
              "    </tr>\n",
              "    <tr>\n",
              "      <th>(720.0, 6445.0]</th>\n",
              "      <td>219760.911236</td>\n",
              "    </tr>\n",
              "  </tbody>\n",
              "</table>\n",
              "</div>"
            ],
            "text/plain": [
              "                 median_house_value\n",
              "totalBedrooms                      \n",
              "(0.999, 271.0]        199341.636788\n",
              "(271.0, 377.0]        204078.957459\n",
              "(377.0, 502.0]        206784.995600\n",
              "(502.0, 720.0]        206614.700000\n",
              "(720.0, 6445.0]       219760.911236"
            ]
          },
          "metadata": {
            "tags": []
          },
          "execution_count": 21
        }
      ]
    },
    {
      "cell_type": "code",
      "metadata": {
        "id": "YbStRNo3Yqf4",
        "colab_type": "code",
        "colab": {}
      },
      "source": [
        "trainData.loc[ trainData[\"total_bedrooms\"] <= 271, \"total_bedrooms\"] = 0\n",
        "trainData.loc[(trainData[\"total_bedrooms\"] > 271) & (trainData[\"total_bedrooms\"] <= 377), \"total_bedrooms\"] = 1\n",
        "trainData.loc[(trainData[\"total_bedrooms\"] > 377) & (trainData[\"total_bedrooms\"] <= 502), \"total_bedrooms\"] = 2\n",
        "trainData.loc[(trainData[\"total_bedrooms\"] > 502) & (trainData[\"total_bedrooms\"] <= 720), \"total_bedrooms\"] = 3\n",
        "trainData.loc[ trainData[\"total_bedrooms\"] > 720, \"total_bedrooms\"] = 4\n",
        "trainData[\"total_bedrooms\"] = trainData[\"total_bedrooms\"].astype(int)\n",
        "\n",
        "trainData = trainData.drop([\"totalBedrooms\"], axis=1)"
      ],
      "execution_count": 22,
      "outputs": []
    },
    {
      "cell_type": "code",
      "metadata": {
        "id": "CC6TIki9ZnVJ",
        "colab_type": "code",
        "colab": {
          "base_uri": "https://localhost:8080/",
          "height": 297
        },
        "outputId": "7e46980c-0b31-498c-949b-15f6f583f549"
      },
      "source": [
        "sns.barplot(x=\"total_bedrooms\", y=\"median_house_value\", data=trainData)"
      ],
      "execution_count": 23,
      "outputs": [
        {
          "output_type": "execute_result",
          "data": {
            "text/plain": [
              "<matplotlib.axes._subplots.AxesSubplot at 0x7f959b6308d0>"
            ]
          },
          "metadata": {
            "tags": []
          },
          "execution_count": 23
        },
        {
          "output_type": "display_data",
          "data": {
            "image/png": "[encoded data removed]",
            "text/plain": [
              "<Figure size 432x288 with 1 Axes>"
            ]
          },
          "metadata": {
            "tags": [],
            "needs_background": "light"
          }
        }
      ]
    },
    {
      "cell_type": "code",
      "metadata": {
        "id": "_DeLwpbMcm-w",
        "colab_type": "code",
        "colab": {
          "base_uri": "https://localhost:8080/",
          "height": 204
        },
        "outputId": "ccc365cb-f272-48cb-c0af-171e8894fc0e"
      },
      "source": [
        "trainData[\"medianAge\"] = pd.qcut(trainData[\"housing_median_age\"], 5)\n",
        "trainData[[\"medianAge\", \"median_house_value\"]].groupby([\"medianAge\"], as_index=False).mean()"
      ],
      "execution_count": 24,
      "outputs": [
        {
          "output_type": "execute_result",
          "data": {
            "text/html": [
              "<div>\n",
              "<style scoped>\n",
              "    .dataframe tbody tr th:only-of-type {\n",
              "        vertical-align: middle;\n",
              "    }\n",
              "\n",
              "    .dataframe tbody tr th {\n",
              "        vertical-align: top;\n",
              "    }\n",
              "\n",
              "    .dataframe thead th {\n",
              "        text-align: right;\n",
              "    }\n",
              "</style>\n",
              "<table border=\"1\" class=\"dataframe\">\n",
              "  <thead>\n",
              "    <tr style=\"text-align: right;\">\n",
              "      <th></th>\n",
              "      <th>medianAge</th>\n",
              "      <th>median_house_value</th>\n",
              "    </tr>\n",
              "  </thead>\n",
              "  <tbody>\n",
              "    <tr>\n",
              "      <th>0</th>\n",
              "      <td>(0.999, 17.0]</td>\n",
              "      <td>193801.674035</td>\n",
              "    </tr>\n",
              "    <tr>\n",
              "      <th>1</th>\n",
              "      <td>(17.0, 25.0]</td>\n",
              "      <td>203624.472977</td>\n",
              "    </tr>\n",
              "    <tr>\n",
              "      <th>2</th>\n",
              "      <td>(25.0, 33.0]</td>\n",
              "      <td>205089.264870</td>\n",
              "    </tr>\n",
              "    <tr>\n",
              "      <th>3</th>\n",
              "      <td>(33.0, 40.0]</td>\n",
              "      <td>207045.171951</td>\n",
              "    </tr>\n",
              "    <tr>\n",
              "      <th>4</th>\n",
              "      <td>(40.0, 52.0]</td>\n",
              "      <td>230420.302208</td>\n",
              "    </tr>\n",
              "  </tbody>\n",
              "</table>\n",
              "</div>"
            ],
            "text/plain": [
              "       medianAge  median_house_value\n",
              "0  (0.999, 17.0]       193801.674035\n",
              "1   (17.0, 25.0]       203624.472977\n",
              "2   (25.0, 33.0]       205089.264870\n",
              "3   (33.0, 40.0]       207045.171951\n",
              "4   (40.0, 52.0]       230420.302208"
            ]
          },
          "metadata": {
            "tags": []
          },
          "execution_count": 24
        }
      ]
    },
    {
      "cell_type": "code",
      "metadata": {
        "id": "yKmkNPnfd7lL",
        "colab_type": "code",
        "colab": {}
      },
      "source": [
        "trainData.loc[ trainData[\"housing_median_age\"] <= 17, \"housing_median_age\"] = 0\n",
        "trainData.loc[(trainData[\"housing_median_age\"] > 17) & (trainData[\"housing_median_age\"] <= 25), \"housing_median_age\"] = 1\n",
        "trainData.loc[(trainData[\"housing_median_age\"] > 25) & (trainData[\"housing_median_age\"] <= 33), \"housing_median_age\"] = 2\n",
        "trainData.loc[(trainData[\"housing_median_age\"] > 33) & (trainData[\"housing_median_age\"] <= 40), \"housing_median_age\"] = 3\n",
        "trainData.loc[ trainData[\"housing_median_age\"] > 40, \"housing_median_age\"] = 4\n",
        "trainData[\"housing_median_age\"] = trainData[\"housing_median_age\"].astype(int)\n",
        "\n",
        "trainData = trainData.drop([\"medianAge\"], axis=1)"
      ],
      "execution_count": 25,
      "outputs": []
    },
    {
      "cell_type": "code",
      "metadata": {
        "id": "HlF42s0keJwC",
        "colab_type": "code",
        "colab": {
          "base_uri": "https://localhost:8080/",
          "height": 297
        },
        "outputId": "d9702f6d-d824-4554-bb27-8d0da90f78e6"
      },
      "source": [
        "sns.barplot(x=\"housing_median_age\", y=\"median_house_value\", data=trainData)"
      ],
      "execution_count": 26,
      "outputs": [
        {
          "output_type": "execute_result",
          "data": {
            "text/plain": [
              "<matplotlib.axes._subplots.AxesSubplot at 0x7f959b1682b0>"
            ]
          },
          "metadata": {
            "tags": []
          },
          "execution_count": 26
        },
        {
          "output_type": "display_data",
          "data": {
            "image/png": "[encoded data removed]",
            "text/plain": [
              "<Figure size 432x288 with 1 Axes>"
            ]
          },
          "metadata": {
            "tags": [],
            "needs_background": "light"
          }
        }
      ]
    },
    {
      "cell_type": "code",
      "metadata": {
        "id": "STWrb4jGeeCs",
        "colab_type": "code",
        "colab": {
          "base_uri": "https://localhost:8080/",
          "height": 266
        },
        "outputId": "a8afd78b-4e54-4ce4-b4a3-967e743a927d"
      },
      "source": [
        "trainData[\"populationBand\"] = pd.qcut(trainData[\"population\"], 7)\n",
        "trainData[[\"populationBand\", \"median_house_value\"]].groupby([\"populationBand\"], as_index=False).mean()"
      ],
      "execution_count": 27,
      "outputs": [
        {
          "output_type": "execute_result",
          "data": {
            "text/html": [
              "<div>\n",
              "<style scoped>\n",
              "    .dataframe tbody tr th:only-of-type {\n",
              "        vertical-align: middle;\n",
              "    }\n",
              "\n",
              "    .dataframe tbody tr th {\n",
              "        vertical-align: top;\n",
              "    }\n",
              "\n",
              "    .dataframe thead th {\n",
              "        text-align: right;\n",
              "    }\n",
              "</style>\n",
              "<table border=\"1\" class=\"dataframe\">\n",
              "  <thead>\n",
              "    <tr style=\"text-align: right;\">\n",
              "      <th></th>\n",
              "      <th>populationBand</th>\n",
              "      <th>median_house_value</th>\n",
              "    </tr>\n",
              "  </thead>\n",
              "  <tbody>\n",
              "    <tr>\n",
              "      <th>0</th>\n",
              "      <td>(2.999, 610.0]</td>\n",
              "      <td>211735.836827</td>\n",
              "    </tr>\n",
              "    <tr>\n",
              "      <th>1</th>\n",
              "      <td>(610.0, 840.0]</td>\n",
              "      <td>216600.272577</td>\n",
              "    </tr>\n",
              "    <tr>\n",
              "      <th>2</th>\n",
              "      <td>(840.0, 1052.0]</td>\n",
              "      <td>211353.508642</td>\n",
              "    </tr>\n",
              "    <tr>\n",
              "      <th>3</th>\n",
              "      <td>(1052.0, 1292.714]</td>\n",
              "      <td>207445.758450</td>\n",
              "    </tr>\n",
              "    <tr>\n",
              "      <th>4</th>\n",
              "      <td>(1292.714, 1614.0]</td>\n",
              "      <td>203315.339638</td>\n",
              "    </tr>\n",
              "    <tr>\n",
              "      <th>5</th>\n",
              "      <td>(1614.0, 2203.571]</td>\n",
              "      <td>199667.983093</td>\n",
              "    </tr>\n",
              "    <tr>\n",
              "      <th>6</th>\n",
              "      <td>(2203.571, 35682.0]</td>\n",
              "      <td>200986.561136</td>\n",
              "    </tr>\n",
              "  </tbody>\n",
              "</table>\n",
              "</div>"
            ],
            "text/plain": [
              "        populationBand  median_house_value\n",
              "0       (2.999, 610.0]       211735.836827\n",
              "1       (610.0, 840.0]       216600.272577\n",
              "2      (840.0, 1052.0]       211353.508642\n",
              "3   (1052.0, 1292.714]       207445.758450\n",
              "4   (1292.714, 1614.0]       203315.339638\n",
              "5   (1614.0, 2203.571]       199667.983093\n",
              "6  (2203.571, 35682.0]       200986.561136"
            ]
          },
          "metadata": {
            "tags": []
          },
          "execution_count": 27
        }
      ]
    },
    {
      "cell_type": "code",
      "metadata": {
        "id": "zMTvCKFfe0pn",
        "colab_type": "code",
        "colab": {}
      },
      "source": [
        "trainData.loc[ trainData[\"population\"] <= 610, \"population\"] = 0\n",
        "trainData.loc[(trainData[\"population\"] > 610) & (trainData[\"population\"] <= 840), \"population\"] = 1\n",
        "trainData.loc[(trainData[\"population\"] > 840) & (trainData[\"population\"] <= 1052), \"population\"] = 2\n",
        "trainData.loc[(trainData[\"population\"] > 1052) & (trainData[\"population\"] <= 1292.714), \"population\"] = 3\n",
        "trainData.loc[(trainData[\"population\"] > 1292.714) & (trainData[\"population\"] <= 1614), \"population\"] = 4\n",
        "trainData.loc[(trainData[\"population\"] > 1614) & (trainData[\"population\"] <= 2203.571), \"population\"] = 5\n",
        "trainData.loc[ trainData[\"population\"] > 2203.571, \"population\"] = 6\n",
        "trainData[\"population\"] = trainData[\"population\"].astype(int)\n",
        "\n",
        "trainData = trainData.drop([\"populationBand\"], axis=1)"
      ],
      "execution_count": 28,
      "outputs": []
    },
    {
      "cell_type": "code",
      "metadata": {
        "id": "gFKBix4ckIds",
        "colab_type": "code",
        "colab": {
          "base_uri": "https://localhost:8080/",
          "height": 296
        },
        "outputId": "27e71fd0-ba90-46fe-bab3-c759a48f03ac"
      },
      "source": [
        "sns.barplot(x=\"population\", y=\"median_house_value\", data=trainData)"
      ],
      "execution_count": 29,
      "outputs": [
        {
          "output_type": "execute_result",
          "data": {
            "text/plain": [
              "<matplotlib.axes._subplots.AxesSubplot at 0x7f959b0d58d0>"
            ]
          },
          "metadata": {
            "tags": []
          },
          "execution_count": 29
        },
        {
          "output_type": "display_data",
          "data": {
            "image/png": "[encoded data removed]",
            "text/plain": [
              "<Figure size 432x288 with 1 Axes>"
            ]
          },
          "metadata": {
            "tags": [],
            "needs_background": "light"
          }
        }
      ]
    },
    {
      "cell_type": "code",
      "metadata": {
        "id": "sY_GwkIGkSI_",
        "colab_type": "code",
        "colab": {
          "base_uri": "https://localhost:8080/",
          "height": 204
        },
        "outputId": "c34db26a-1d82-4397-c677-a8df6c4bac94"
      },
      "source": [
        "trainData[\"householdsBand\"] = pd.qcut(trainData[\"households\"], 5)\n",
        "trainData[[\"householdsBand\", \"median_house_value\"]].groupby([\"householdsBand\"], as_index=False).mean()"
      ],
      "execution_count": 30,
      "outputs": [
        {
          "output_type": "execute_result",
          "data": {
            "text/html": [
              "<div>\n",
              "<style scoped>\n",
              "    .dataframe tbody tr th:only-of-type {\n",
              "        vertical-align: middle;\n",
              "    }\n",
              "\n",
              "    .dataframe tbody tr th {\n",
              "        vertical-align: top;\n",
              "    }\n",
              "\n",
              "    .dataframe thead th {\n",
              "        text-align: right;\n",
              "    }\n",
              "</style>\n",
              "<table border=\"1\" class=\"dataframe\">\n",
              "  <thead>\n",
              "    <tr style=\"text-align: right;\">\n",
              "      <th></th>\n",
              "      <th>householdsBand</th>\n",
              "      <th>median_house_value</th>\n",
              "    </tr>\n",
              "  </thead>\n",
              "  <tbody>\n",
              "    <tr>\n",
              "      <th>0</th>\n",
              "      <td>(0.999, 255.0]</td>\n",
              "      <td>195774.914520</td>\n",
              "    </tr>\n",
              "    <tr>\n",
              "      <th>1</th>\n",
              "      <td>(255.0, 355.0]</td>\n",
              "      <td>202443.998524</td>\n",
              "    </tr>\n",
              "    <tr>\n",
              "      <th>2</th>\n",
              "      <td>(355.0, 471.0]</td>\n",
              "      <td>207452.910079</td>\n",
              "    </tr>\n",
              "    <tr>\n",
              "      <th>3</th>\n",
              "      <td>(471.0, 667.0]</td>\n",
              "      <td>210091.291311</td>\n",
              "    </tr>\n",
              "    <tr>\n",
              "      <th>4</th>\n",
              "      <td>(667.0, 6082.0]</td>\n",
              "      <td>220790.449676</td>\n",
              "    </tr>\n",
              "  </tbody>\n",
              "</table>\n",
              "</div>"
            ],
            "text/plain": [
              "    householdsBand  median_house_value\n",
              "0   (0.999, 255.0]       195774.914520\n",
              "1   (255.0, 355.0]       202443.998524\n",
              "2   (355.0, 471.0]       207452.910079\n",
              "3   (471.0, 667.0]       210091.291311\n",
              "4  (667.0, 6082.0]       220790.449676"
            ]
          },
          "metadata": {
            "tags": []
          },
          "execution_count": 30
        }
      ]
    },
    {
      "cell_type": "code",
      "metadata": {
        "id": "hQt8SgfBkfTX",
        "colab_type": "code",
        "colab": {}
      },
      "source": [
        "trainData.loc[ trainData[\"households\"] <= 255, \"households\"] = 0\n",
        "trainData.loc[(trainData[\"households\"] > 255) & (trainData[\"households\"] <= 355), \"households\"] = 1\n",
        "trainData.loc[(trainData[\"households\"] > 355) & (trainData[\"households\"] <= 471), \"households\"] = 2\n",
        "trainData.loc[(trainData[\"households\"] > 471) & (trainData[\"households\"] <= 667), \"households\"] = 3\n",
        "trainData.loc[ trainData[\"households\"] > 667, \"households\"] = 4\n",
        "trainData[\"households\"] = trainData[\"households\"].astype(int)\n",
        "\n",
        "trainData = trainData.drop([\"householdsBand\"], axis=1)"
      ],
      "execution_count": 31,
      "outputs": []
    },
    {
      "cell_type": "code",
      "metadata": {
        "id": "7XaMelG3kus4",
        "colab_type": "code",
        "colab": {
          "base_uri": "https://localhost:8080/",
          "height": 296
        },
        "outputId": "3dab8a33-7f54-4c0b-9f86-614af4da2c48"
      },
      "source": [
        "sns.barplot(x=\"households\", y=\"median_house_value\", data=trainData)"
      ],
      "execution_count": 32,
      "outputs": [
        {
          "output_type": "execute_result",
          "data": {
            "text/plain": [
              "<matplotlib.axes._subplots.AxesSubplot at 0x7f959b0d56a0>"
            ]
          },
          "metadata": {
            "tags": []
          },
          "execution_count": 32
        },
        {
          "output_type": "display_data",
          "data": {
            "image/png": "[encoded data removed]",
            "text/plain": [
              "<Figure size 432x288 with 1 Axes>"
            ]
          },
          "metadata": {
            "tags": [],
            "needs_background": "light"
          }
        }
      ]
    },
    {
      "cell_type": "code",
      "metadata": {
        "id": "XEMEDbmXwM-G",
        "colab_type": "code",
        "colab": {
          "base_uri": "https://localhost:8080/",
          "height": 296
        },
        "outputId": "07726eba-7484-4962-8603-3b999a51a343"
      },
      "source": [
        "sns.scatterplot(x=\"longitude\", y=\"latitude\", data=trainData)"
      ],
      "execution_count": 33,
      "outputs": [
        {
          "output_type": "execute_result",
          "data": {
            "text/plain": [
              "<matplotlib.axes._subplots.AxesSubplot at 0x7f959afd6358>"
            ]
          },
          "metadata": {
            "tags": []
          },
          "execution_count": 33
        },
        {
          "output_type": "display_data",
          "data": {
            "image/png": "[encoded data removed]",
            "text/plain": [
              "<Figure size 432x288 with 1 Axes>"
            ]
          },
          "metadata": {
            "tags": [],
            "needs_background": "light"
          }
        }
      ]
    },
    {
      "cell_type": "code",
      "metadata": {
        "id": "UCYIe9sxKLRO",
        "colab_type": "code",
        "colab": {
          "base_uri": "https://localhost:8080/",
          "height": 297
        },
        "outputId": "835db1c5-e684-43ed-e4f3-17a83ea3d211"
      },
      "source": [
        "sns.scatterplot(x=\"median_income\", y=\"median_house_value\", data=trainData)"
      ],
      "execution_count": 126,
      "outputs": [
        {
          "output_type": "execute_result",
          "data": {
            "text/plain": [
              "<matplotlib.axes._subplots.AxesSubplot at 0x7f9592733c50>"
            ]
          },
          "metadata": {
            "tags": []
          },
          "execution_count": 126
        },
        {
          "output_type": "display_data",
          "data": {
            "image/png": "[encoded data removed]",
            "text/plain": [
              "<Figure size 432x288 with 1 Axes>"
            ]
          },
          "metadata": {
            "tags": [],
            "needs_background": "light"
          }
        }
      ]
    },
    {
      "cell_type": "code",
      "metadata": {
        "id": "FmEIqybyUdzK",
        "colab_type": "code",
        "colab": {
          "base_uri": "https://localhost:8080/",
          "height": 297
        },
        "outputId": "ec86ab51-a2fd-491f-88e5-33a1124a553d"
      },
      "source": [
        "sns.barplot(x=\"housing_median_age\", y=\"median_income\", data=trainData)"
      ],
      "execution_count": 137,
      "outputs": [
        {
          "output_type": "execute_result",
          "data": {
            "text/plain": [
              "<matplotlib.axes._subplots.AxesSubplot at 0x7f95860fb518>"
            ]
          },
          "metadata": {
            "tags": []
          },
          "execution_count": 137
        },
        {
          "output_type": "display_data",
          "data": {
            "image/png": "[encoded data removed]",
            "text/plain": [
              "<Figure size 432x288 with 1 Axes>"
            ]
          },
          "metadata": {
            "tags": [],
            "needs_background": "light"
          }
        }
      ]
    },
    {
      "cell_type": "code",
      "metadata": {
        "id": "lbe9xVKhKhro",
        "colab_type": "code",
        "colab": {
          "base_uri": "https://localhost:8080/",
          "height": 297
        },
        "outputId": "68079a38-1715-474a-a9c7-d8a39e3331a5"
      },
      "source": [
        "sns.barplot(x=\"total_rooms\", y=\"total_bedrooms\", data=trainData)"
      ],
      "execution_count": 128,
      "outputs": [
        {
          "output_type": "execute_result",
          "data": {
            "text/plain": [
              "<matplotlib.axes._subplots.AxesSubplot at 0x7f95939d94a8>"
            ]
          },
          "metadata": {
            "tags": []
          },
          "execution_count": 128
        },
        {
          "output_type": "display_data",
          "data": {
            "image/png": "[encoded data removed]",
            "text/plain": [
              "<Figure size 432x288 with 1 Axes>"
            ]
          },
          "metadata": {
            "tags": [],
            "needs_background": "light"
          }
        }
      ]
    },
    {
      "cell_type": "code",
      "metadata": {
        "id": "FbL7YBxXUKBL",
        "colab_type": "code",
        "colab": {}
      },
      "source": [
        "x_train = trainData.drop(\"median_house_value\", axis=1)\n",
        "y_train = trainData[\"median_house_value\"]\n",
        "x_test = testData.drop(\"median_house_value\", axis=1)\n",
        "y_test = testData[\"median_house_value\"]"
      ],
      "execution_count": 34,
      "outputs": []
    },
    {
      "cell_type": "code",
      "metadata": {
        "id": "OrJcfb4qpuu2",
        "colab_type": "code",
        "colab": {}
      },
      "source": [
        "x_train = np.asarray(x_train)\n",
        "y_train = np.asarray(y_train)\n",
        "x_test = np.asarray(x_test)\n",
        "y_test = np.asarray(y_test)"
      ],
      "execution_count": 35,
      "outputs": []
    },
    {
      "cell_type": "code",
      "metadata": {
        "id": "1iOU53pfqn5a",
        "colab_type": "code",
        "colab": {}
      },
      "source": [
        "x_train_norm = (x_train - x_train.mean()) / x_train.std()\n",
        "y_train_norm = (y_train - y_train.mean()) / y_train.std()\n",
        "x_test_norm = (x_test - x_test.mean()) / x_test.std()\n",
        "y_test_norm = (y_test - y_test.mean()) / y_test.std()"
      ],
      "execution_count": 36,
      "outputs": []
    },
    {
      "cell_type": "code",
      "metadata": {
        "id": "3cL75uZw8taf",
        "colab_type": "code",
        "colab": {
          "base_uri": "https://localhost:8080/",
          "height": 51
        },
        "outputId": "eaf68401-9aa8-430f-d01f-972a6ddd5dc3"
      },
      "source": [
        "y_train_norm"
      ],
      "execution_count": 49,
      "outputs": [
        {
          "output_type": "execute_result",
          "data": {
            "text/plain": [
              "array([-1.21055773, -1.09674535, -1.04846131, ..., -0.89412482,\n",
              "       -1.04759909, -0.97172417])"
            ]
          },
          "metadata": {
            "tags": []
          },
          "execution_count": 49
        }
      ]
    },
    {
      "cell_type": "code",
      "metadata": {
        "id": "y5G1Cmabo07b",
        "colab_type": "code",
        "colab": {}
      },
      "source": [
        "def trainModel():\n",
        "  md = Sequential()\n",
        "  md.add(Dense(1, input_shape=(x_train_norm.shape[1],)))\n",
        "  md.compile(loss=\"mean_squared_error\", \n",
        "             optimizer=SGD(lr=0.1),\n",
        "             metrics=[\"mean_squared_error\"])\n",
        "  return md"
      ],
      "execution_count": 109,
      "outputs": []
    },
    {
      "cell_type": "code",
      "metadata": {
        "id": "ilgfEhUnwHit",
        "colab_type": "code",
        "colab": {
          "base_uri": "https://localhost:8080/",
          "height": 1000
        },
        "outputId": "9c4195fa-cfd8-4d4d-fe15-b91828b6b0f8"
      },
      "source": [
        "model = trainModel()\n",
        "model.fit(x_train_norm, y_train_norm, validation_split=0.3, epochs=50, verbose=2)"
      ],
      "execution_count": 112,
      "outputs": [
        {
          "output_type": "stream",
          "text": [
            "Train on 11900 samples, validate on 5100 samples\n",
            "Epoch 1/50\n",
            " - 0s - loss: 1.0448 - mean_squared_error: 1.0448 - val_loss: 0.9818 - val_mean_squared_error: 0.9818\n",
            "Epoch 2/50\n",
            " - 0s - loss: 0.8599 - mean_squared_error: 0.8599 - val_loss: 1.5705 - val_mean_squared_error: 1.5705\n",
            "Epoch 3/50\n",
            " - 0s - loss: 0.8102 - mean_squared_error: 0.8102 - val_loss: 1.0404 - val_mean_squared_error: 1.0404\n",
            "Epoch 4/50\n",
            " - 0s - loss: 0.7673 - mean_squared_error: 0.7673 - val_loss: 0.7609 - val_mean_squared_error: 0.7609\n",
            "Epoch 5/50\n",
            " - 0s - loss: 0.7124 - mean_squared_error: 0.7124 - val_loss: 0.7538 - val_mean_squared_error: 0.7538\n",
            "Epoch 6/50\n",
            " - 0s - loss: 0.6589 - mean_squared_error: 0.6589 - val_loss: 0.8984 - val_mean_squared_error: 0.8984\n",
            "Epoch 7/50\n",
            " - 0s - loss: 0.6092 - mean_squared_error: 0.6092 - val_loss: 0.5689 - val_mean_squared_error: 0.5689\n",
            "Epoch 8/50\n",
            " - 0s - loss: 0.5923 - mean_squared_error: 0.5923 - val_loss: 1.3287 - val_mean_squared_error: 1.3287\n",
            "Epoch 9/50\n",
            " - 0s - loss: 0.5855 - mean_squared_error: 0.5855 - val_loss: 0.7288 - val_mean_squared_error: 0.7288\n",
            "Epoch 10/50\n",
            " - 0s - loss: 0.5943 - mean_squared_error: 0.5943 - val_loss: 0.5077 - val_mean_squared_error: 0.5077\n",
            "Epoch 11/50\n",
            " - 0s - loss: 0.5468 - mean_squared_error: 0.5468 - val_loss: 0.5553 - val_mean_squared_error: 0.5553\n",
            "Epoch 12/50\n",
            " - 0s - loss: 0.5349 - mean_squared_error: 0.5349 - val_loss: 1.8533 - val_mean_squared_error: 1.8533\n",
            "Epoch 13/50\n",
            " - 0s - loss: 0.5412 - mean_squared_error: 0.5412 - val_loss: 1.2140 - val_mean_squared_error: 1.2140\n",
            "Epoch 14/50\n",
            " - 0s - loss: 0.5657 - mean_squared_error: 0.5657 - val_loss: 1.5029 - val_mean_squared_error: 1.5029\n",
            "Epoch 15/50\n",
            " - 0s - loss: 0.5431 - mean_squared_error: 0.5431 - val_loss: 0.8653 - val_mean_squared_error: 0.8653\n",
            "Epoch 16/50\n",
            " - 0s - loss: 0.5472 - mean_squared_error: 0.5472 - val_loss: 0.8592 - val_mean_squared_error: 0.8592\n",
            "Epoch 17/50\n",
            " - 0s - loss: 0.5544 - mean_squared_error: 0.5544 - val_loss: 0.5368 - val_mean_squared_error: 0.5368\n",
            "Epoch 18/50\n",
            " - 0s - loss: 0.5264 - mean_squared_error: 0.5264 - val_loss: 1.0034 - val_mean_squared_error: 1.0034\n",
            "Epoch 19/50\n",
            " - 0s - loss: 0.5129 - mean_squared_error: 0.5129 - val_loss: 0.7850 - val_mean_squared_error: 0.7850\n",
            "Epoch 20/50\n",
            " - 0s - loss: 0.5198 - mean_squared_error: 0.5198 - val_loss: 1.2818 - val_mean_squared_error: 1.2818\n",
            "Epoch 21/50\n",
            " - 0s - loss: 0.5058 - mean_squared_error: 0.5058 - val_loss: 0.8936 - val_mean_squared_error: 0.8936\n",
            "Epoch 22/50\n",
            " - 0s - loss: 0.5323 - mean_squared_error: 0.5323 - val_loss: 0.5368 - val_mean_squared_error: 0.5368\n",
            "Epoch 23/50\n",
            " - 0s - loss: 0.5130 - mean_squared_error: 0.5130 - val_loss: 1.7865 - val_mean_squared_error: 1.7865\n",
            "Epoch 24/50\n",
            " - 0s - loss: 0.5118 - mean_squared_error: 0.5118 - val_loss: 0.4414 - val_mean_squared_error: 0.4414\n",
            "Epoch 25/50\n",
            " - 0s - loss: 0.5222 - mean_squared_error: 0.5222 - val_loss: 0.6958 - val_mean_squared_error: 0.6958\n",
            "Epoch 26/50\n",
            " - 0s - loss: 0.5131 - mean_squared_error: 0.5131 - val_loss: 1.1860 - val_mean_squared_error: 1.1860\n",
            "Epoch 27/50\n",
            " - 0s - loss: 0.5026 - mean_squared_error: 0.5026 - val_loss: 0.7791 - val_mean_squared_error: 0.7791\n",
            "Epoch 28/50\n",
            " - 0s - loss: 0.5167 - mean_squared_error: 0.5167 - val_loss: 0.4549 - val_mean_squared_error: 0.4549\n",
            "Epoch 29/50\n",
            " - 0s - loss: 0.5343 - mean_squared_error: 0.5343 - val_loss: 0.7560 - val_mean_squared_error: 0.7560\n",
            "Epoch 30/50\n",
            " - 0s - loss: 0.5197 - mean_squared_error: 0.5197 - val_loss: 0.9530 - val_mean_squared_error: 0.9530\n",
            "Epoch 31/50\n",
            " - 0s - loss: 0.5312 - mean_squared_error: 0.5312 - val_loss: 0.7910 - val_mean_squared_error: 0.7910\n",
            "Epoch 32/50\n",
            " - 0s - loss: 0.5126 - mean_squared_error: 0.5126 - val_loss: 2.1395 - val_mean_squared_error: 2.1395\n",
            "Epoch 33/50\n",
            " - 0s - loss: 0.5010 - mean_squared_error: 0.5010 - val_loss: 0.8928 - val_mean_squared_error: 0.8928\n",
            "Epoch 34/50\n",
            " - 0s - loss: 0.4918 - mean_squared_error: 0.4918 - val_loss: 1.1524 - val_mean_squared_error: 1.1524\n",
            "Epoch 35/50\n",
            " - 0s - loss: 0.4751 - mean_squared_error: 0.4751 - val_loss: 0.4822 - val_mean_squared_error: 0.4822\n",
            "Epoch 36/50\n",
            " - 0s - loss: 0.5043 - mean_squared_error: 0.5043 - val_loss: 0.7093 - val_mean_squared_error: 0.7093\n",
            "Epoch 37/50\n",
            " - 0s - loss: 0.4989 - mean_squared_error: 0.4989 - val_loss: 0.4254 - val_mean_squared_error: 0.4254\n",
            "Epoch 38/50\n",
            " - 0s - loss: 0.4973 - mean_squared_error: 0.4973 - val_loss: 0.9749 - val_mean_squared_error: 0.9749\n",
            "Epoch 39/50\n",
            " - 0s - loss: 0.4975 - mean_squared_error: 0.4975 - val_loss: 0.7972 - val_mean_squared_error: 0.7972\n",
            "Epoch 40/50\n",
            " - 0s - loss: 0.4951 - mean_squared_error: 0.4951 - val_loss: 0.4614 - val_mean_squared_error: 0.4614\n",
            "Epoch 41/50\n",
            " - 0s - loss: 0.4855 - mean_squared_error: 0.4855 - val_loss: 0.5312 - val_mean_squared_error: 0.5312\n",
            "Epoch 42/50\n",
            " - 0s - loss: 0.4734 - mean_squared_error: 0.4734 - val_loss: 0.5178 - val_mean_squared_error: 0.5178\n",
            "Epoch 43/50\n",
            " - 0s - loss: 0.4659 - mean_squared_error: 0.4659 - val_loss: 0.8652 - val_mean_squared_error: 0.8652\n",
            "Epoch 44/50\n",
            " - 0s - loss: 0.4955 - mean_squared_error: 0.4955 - val_loss: 0.6392 - val_mean_squared_error: 0.6392\n",
            "Epoch 45/50\n",
            " - 0s - loss: 0.5071 - mean_squared_error: 0.5071 - val_loss: 0.5321 - val_mean_squared_error: 0.5321\n",
            "Epoch 46/50\n",
            " - 0s - loss: 0.4900 - mean_squared_error: 0.4900 - val_loss: 0.9368 - val_mean_squared_error: 0.9368\n",
            "Epoch 47/50\n",
            " - 0s - loss: 0.4661 - mean_squared_error: 0.4661 - val_loss: 0.9618 - val_mean_squared_error: 0.9618\n",
            "Epoch 48/50\n",
            " - 0s - loss: 0.4814 - mean_squared_error: 0.4814 - val_loss: 0.5171 - val_mean_squared_error: 0.5171\n",
            "Epoch 49/50\n",
            " - 0s - loss: 0.5016 - mean_squared_error: 0.5016 - val_loss: 1.1169 - val_mean_squared_error: 1.1169\n",
            "Epoch 50/50\n",
            " - 0s - loss: 0.4861 - mean_squared_error: 0.4861 - val_loss: 0.4262 - val_mean_squared_error: 0.4262\n"
          ],
          "name": "stdout"
        },
        {
          "output_type": "execute_result",
          "data": {
            "text/plain": [
              "<keras.callbacks.callbacks.History at 0x7f9592adffd0>"
            ]
          },
          "metadata": {
            "tags": []
          },
          "execution_count": 112
        }
      ]
    },
    {
      "cell_type": "code",
      "metadata": {
        "id": "spzsyAkE0Y4q",
        "colab_type": "code",
        "colab": {
          "base_uri": "https://localhost:8080/",
          "height": 34
        },
        "outputId": "a98d151f-6e70-4000-8f1a-b650f0633831"
      },
      "source": [
        "linearReg = LinearRegression()\n",
        "linearReg.fit(x_train_norm, y_train_norm)\n",
        "predictions = linearReg.predict(x_test_norm)\n",
        "accuracy = round(linearReg.score(x_train_norm, y_train_norm) * 100, 2)\n",
        "accuracy"
      ],
      "execution_count": 117,
      "outputs": [
        {
          "output_type": "execute_result",
          "data": {
            "text/plain": [
              "64.73"
            ]
          },
          "metadata": {
            "tags": []
          },
          "execution_count": 117
        }
      ]
    }
  ]
}